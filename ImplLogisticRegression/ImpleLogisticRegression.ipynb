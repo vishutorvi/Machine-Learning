{
 "cells": [
  {
   "cell_type": "markdown",
   "metadata": {},
   "source": [
    "# Implementing logistic regression from scratch\n",
    "\n",
    "The goal of this notebook is to implement your own logistic regression classifier. You will:\n",
    "\n",
    " * Extract features from Amazon product reviews.\n",
    " * Convert an SFrame into a NumPy array.\n",
    " * Implement the link function for logistic regression.\n",
    " * Write a function to compute the derivative of the log likelihood function with respect to a single coefficient.\n",
    " * Implement gradient ascent.\n",
    " * Given a set of coefficients, predict sentiments.\n",
    " * Compute classification accuracy for the logistic regression model.\n",
    " \n",
    "Let's get started!\n",
    "    \n",
    "## Fire up GraphLab Create\n",
    "\n",
    "Make sure you have the latest version of GraphLab Create. Upgrade by\n",
    "```\n",
    "   pip install graphlab-create --upgrade\n",
    "```\n",
    "See [this page](https://dato.com/download/) for detailed instructions on upgrading."
   ]
  },
  {
   "cell_type": "code",
   "execution_count": 2,
   "metadata": {
    "collapsed": false
   },
   "outputs": [],
   "source": [
    "import graphlab"
   ]
  },
  {
   "cell_type": "markdown",
   "metadata": {},
   "source": [
    "## Load review dataset"
   ]
  },
  {
   "cell_type": "markdown",
   "metadata": {},
   "source": [
    "For this assignment, we will use a subset of the Amazon product review dataset. The subset was chosen to contain similar numbers of positive and negative reviews, as the original dataset consisted primarily of positive reviews."
   ]
  },
  {
   "cell_type": "code",
   "execution_count": 3,
   "metadata": {
    "collapsed": false
   },
   "outputs": [
    {
     "name": "stdout",
     "output_type": "stream",
     "text": [
      "This non-commercial license of GraphLab Create for academic use is assigned to vishwas.torvi@gmail.com and will expire on September 30, 2018.\n"
     ]
    },
    {
     "name": "stderr",
     "output_type": "stream",
     "text": [
      "[INFO] graphlab.cython.cy_server: GraphLab Create v2.1 started. Logging: C:\\Users\\DELLPC~1\\AppData\\Local\\Temp\\graphlab_server_1507564964.log.0\n"
     ]
    }
   ],
   "source": [
    "products = graphlab.SFrame('G:/Fall2017/Machine Learning/Classification/Assignment_2/amazon_baby_subset.gl/')"
   ]
  },
  {
   "cell_type": "markdown",
   "metadata": {},
   "source": [
    "One column of this dataset is 'sentiment', corresponding to the class label with +1 indicating a review with positive sentiment and -1 indicating one with negative sentiment."
   ]
  },
  {
   "cell_type": "code",
   "execution_count": 4,
   "metadata": {
    "collapsed": false
   },
   "outputs": [
    {
     "data": {
      "text/html": [
       "<div style=\"max-height:1000px;max-width:1500px;overflow:auto;\"><table frame=\"box\" rules=\"cols\">\n",
       "    <tr>\n",
       "        <th style=\"padding-left: 1em; padding-right: 1em; text-align: center\">name</th>\n",
       "        <th style=\"padding-left: 1em; padding-right: 1em; text-align: center\">review</th>\n",
       "        <th style=\"padding-left: 1em; padding-right: 1em; text-align: center\">rating</th>\n",
       "        <th style=\"padding-left: 1em; padding-right: 1em; text-align: center\">sentiment</th>\n",
       "    </tr>\n",
       "    <tr>\n",
       "        <td style=\"padding-left: 1em; padding-right: 1em; text-align: center; vertical-align: top\">Stop Pacifier Sucking<br>without tears with ...</td>\n",
       "        <td style=\"padding-left: 1em; padding-right: 1em; text-align: center; vertical-align: top\">All of my kids have cried<br>non-stop when I tried to ...</td>\n",
       "        <td style=\"padding-left: 1em; padding-right: 1em; text-align: center; vertical-align: top\">5.0</td>\n",
       "        <td style=\"padding-left: 1em; padding-right: 1em; text-align: center; vertical-align: top\">1</td>\n",
       "    </tr>\n",
       "    <tr>\n",
       "        <td style=\"padding-left: 1em; padding-right: 1em; text-align: center; vertical-align: top\">Nature's Lullabies Second<br>Year Sticker Calendar ...</td>\n",
       "        <td style=\"padding-left: 1em; padding-right: 1em; text-align: center; vertical-align: top\">We wanted to get<br>something to keep track ...</td>\n",
       "        <td style=\"padding-left: 1em; padding-right: 1em; text-align: center; vertical-align: top\">5.0</td>\n",
       "        <td style=\"padding-left: 1em; padding-right: 1em; text-align: center; vertical-align: top\">1</td>\n",
       "    </tr>\n",
       "    <tr>\n",
       "        <td style=\"padding-left: 1em; padding-right: 1em; text-align: center; vertical-align: top\">Nature's Lullabies Second<br>Year Sticker Calendar ...</td>\n",
       "        <td style=\"padding-left: 1em; padding-right: 1em; text-align: center; vertical-align: top\">My daughter had her 1st<br>baby over a year ago. ...</td>\n",
       "        <td style=\"padding-left: 1em; padding-right: 1em; text-align: center; vertical-align: top\">5.0</td>\n",
       "        <td style=\"padding-left: 1em; padding-right: 1em; text-align: center; vertical-align: top\">1</td>\n",
       "    </tr>\n",
       "    <tr>\n",
       "        <td style=\"padding-left: 1em; padding-right: 1em; text-align: center; vertical-align: top\">Lamaze Peekaboo, I Love<br>You ...</td>\n",
       "        <td style=\"padding-left: 1em; padding-right: 1em; text-align: center; vertical-align: top\">One of baby's first and<br>favorite books, and i ...</td>\n",
       "        <td style=\"padding-left: 1em; padding-right: 1em; text-align: center; vertical-align: top\">4.0</td>\n",
       "        <td style=\"padding-left: 1em; padding-right: 1em; text-align: center; vertical-align: top\">1</td>\n",
       "    </tr>\n",
       "    <tr>\n",
       "        <td style=\"padding-left: 1em; padding-right: 1em; text-align: center; vertical-align: top\">SoftPlay Peek-A-Boo<br>Where's Elmo A Childr ...</td>\n",
       "        <td style=\"padding-left: 1em; padding-right: 1em; text-align: center; vertical-align: top\">Very cute interactive<br>book! My son loves this ...</td>\n",
       "        <td style=\"padding-left: 1em; padding-right: 1em; text-align: center; vertical-align: top\">5.0</td>\n",
       "        <td style=\"padding-left: 1em; padding-right: 1em; text-align: center; vertical-align: top\">1</td>\n",
       "    </tr>\n",
       "    <tr>\n",
       "        <td style=\"padding-left: 1em; padding-right: 1em; text-align: center; vertical-align: top\">Our Baby Girl Memory Book</td>\n",
       "        <td style=\"padding-left: 1em; padding-right: 1em; text-align: center; vertical-align: top\">Beautiful book, I love it<br>to record cherished t ...</td>\n",
       "        <td style=\"padding-left: 1em; padding-right: 1em; text-align: center; vertical-align: top\">5.0</td>\n",
       "        <td style=\"padding-left: 1em; padding-right: 1em; text-align: center; vertical-align: top\">1</td>\n",
       "    </tr>\n",
       "    <tr>\n",
       "        <td style=\"padding-left: 1em; padding-right: 1em; text-align: center; vertical-align: top\">Hunnt&amp;reg; Falling<br>Flowers and Birds Kids ...</td>\n",
       "        <td style=\"padding-left: 1em; padding-right: 1em; text-align: center; vertical-align: top\">Try this out for a spring<br>project !Easy ,fun and ...</td>\n",
       "        <td style=\"padding-left: 1em; padding-right: 1em; text-align: center; vertical-align: top\">5.0</td>\n",
       "        <td style=\"padding-left: 1em; padding-right: 1em; text-align: center; vertical-align: top\">1</td>\n",
       "    </tr>\n",
       "    <tr>\n",
       "        <td style=\"padding-left: 1em; padding-right: 1em; text-align: center; vertical-align: top\">Blessed By Pope Benedict<br>XVI Divine Mercy Full ...</td>\n",
       "        <td style=\"padding-left: 1em; padding-right: 1em; text-align: center; vertical-align: top\">very nice Divine Mercy<br>Pendant of Jesus now on ...</td>\n",
       "        <td style=\"padding-left: 1em; padding-right: 1em; text-align: center; vertical-align: top\">5.0</td>\n",
       "        <td style=\"padding-left: 1em; padding-right: 1em; text-align: center; vertical-align: top\">1</td>\n",
       "    </tr>\n",
       "    <tr>\n",
       "        <td style=\"padding-left: 1em; padding-right: 1em; text-align: center; vertical-align: top\">Cloth Diaper Pins<br>Stainless Steel ...</td>\n",
       "        <td style=\"padding-left: 1em; padding-right: 1em; text-align: center; vertical-align: top\">We bought the pins as my<br>6 year old Autistic son ...</td>\n",
       "        <td style=\"padding-left: 1em; padding-right: 1em; text-align: center; vertical-align: top\">4.0</td>\n",
       "        <td style=\"padding-left: 1em; padding-right: 1em; text-align: center; vertical-align: top\">1</td>\n",
       "    </tr>\n",
       "    <tr>\n",
       "        <td style=\"padding-left: 1em; padding-right: 1em; text-align: center; vertical-align: top\">Cloth Diaper Pins<br>Stainless Steel ...</td>\n",
       "        <td style=\"padding-left: 1em; padding-right: 1em; text-align: center; vertical-align: top\">It has been many years<br>since we needed diaper ...</td>\n",
       "        <td style=\"padding-left: 1em; padding-right: 1em; text-align: center; vertical-align: top\">5.0</td>\n",
       "        <td style=\"padding-left: 1em; padding-right: 1em; text-align: center; vertical-align: top\">1</td>\n",
       "    </tr>\n",
       "</table>\n",
       "[53072 rows x 4 columns]<br/>Note: Only the head of the SFrame is printed.<br/>You can use print_rows(num_rows=m, num_columns=n) to print more rows and columns.\n",
       "</div>"
      ],
      "text/plain": [
       "Columns:\n",
       "\tname\tstr\n",
       "\treview\tstr\n",
       "\trating\tfloat\n",
       "\tsentiment\tint\n",
       "\n",
       "Rows: 53072\n",
       "\n",
       "Data:\n",
       "+-------------------------------+-------------------------------+--------+-----------+\n",
       "|              name             |             review            | rating | sentiment |\n",
       "+-------------------------------+-------------------------------+--------+-----------+\n",
       "| Stop Pacifier Sucking with... | All of my kids have cried ... |  5.0   |     1     |\n",
       "| Nature's Lullabies Second ... | We wanted to get something... |  5.0   |     1     |\n",
       "| Nature's Lullabies Second ... | My daughter had her 1st ba... |  5.0   |     1     |\n",
       "|  Lamaze Peekaboo, I Love You  | One of baby's first and fa... |  4.0   |     1     |\n",
       "| SoftPlay Peek-A-Boo Where'... | Very cute interactive book... |  5.0   |     1     |\n",
       "|   Our Baby Girl Memory Book   | Beautiful book, I love it ... |  5.0   |     1     |\n",
       "| Hunnt&reg; Falling Flowers... | Try this out for a spring ... |  5.0   |     1     |\n",
       "| Blessed By Pope Benedict X... | very nice Divine Mercy Pen... |  5.0   |     1     |\n",
       "| Cloth Diaper Pins Stainles... | We bought the pins as my 6... |  4.0   |     1     |\n",
       "| Cloth Diaper Pins Stainles... | It has been many years sin... |  5.0   |     1     |\n",
       "+-------------------------------+-------------------------------+--------+-----------+\n",
       "[53072 rows x 4 columns]\n",
       "Note: Only the head of the SFrame is printed.\n",
       "You can use print_rows(num_rows=m, num_columns=n) to print more rows and columns."
      ]
     },
     "execution_count": 4,
     "metadata": {},
     "output_type": "execute_result"
    }
   ],
   "source": [
    "products"
   ]
  },
  {
   "cell_type": "markdown",
   "metadata": {},
   "source": [
    "Let us quickly explore more of this dataset.  The 'name' column indicates the name of the product.  Here we list the first 10 products in the dataset.  We then count the number of positive and negative reviews."
   ]
  },
  {
   "cell_type": "code",
   "execution_count": 5,
   "metadata": {
    "collapsed": false
   },
   "outputs": [
    {
     "data": {
      "text/plain": [
       "dtype: str\n",
       "Rows: 10\n",
       "[\"Stop Pacifier Sucking without tears with Thumbuddy To Love's Binky Fairy Puppet and Adorable Book\", \"Nature's Lullabies Second Year Sticker Calendar\", \"Nature's Lullabies Second Year Sticker Calendar\", 'Lamaze Peekaboo, I Love You', \"SoftPlay Peek-A-Boo Where's Elmo A Children's Book\", 'Our Baby Girl Memory Book', 'Hunnt&reg; Falling Flowers and Birds Kids Nursery Home Decor Vinyl Mural Art Wall Paper Stickers', 'Blessed By Pope Benedict XVI Divine Mercy Full Color Medal', 'Cloth Diaper Pins Stainless Steel Traditional Safety Pin (Black)', 'Cloth Diaper Pins Stainless Steel Traditional Safety Pin (Black)']"
      ]
     },
     "execution_count": 5,
     "metadata": {},
     "output_type": "execute_result"
    }
   ],
   "source": [
    "products.head(10)['name']"
   ]
  },
  {
   "cell_type": "code",
   "execution_count": 6,
   "metadata": {
    "collapsed": false
   },
   "outputs": [
    {
     "name": "stdout",
     "output_type": "stream",
     "text": [
      "# of positive reviews = 26579\n",
      "# of negative reviews = 26493\n"
     ]
    }
   ],
   "source": [
    "print '# of positive reviews =', len(products[products['sentiment']==1])\n",
    "print '# of negative reviews =', len(products[products['sentiment']==-1])"
   ]
  },
  {
   "cell_type": "markdown",
   "metadata": {},
   "source": [
    "**Note:** For this assignment, we eliminated class imbalance by choosing \n",
    "a subset of the data with a similar number of positive and negative reviews. \n",
    "\n",
    "## Apply text cleaning on the review data\n",
    "\n",
    "In this section, we will perform some simple feature cleaning using **SFrames**. The last assignment used all words in building bag-of-words features, but here we limit ourselves to 193 words (for simplicity). We compiled a list of 193 most frequent words into a JSON file. \n",
    "\n",
    "Now, we will load these words from this JSON file:"
   ]
  },
  {
   "cell_type": "code",
   "execution_count": 7,
   "metadata": {
    "collapsed": false
   },
   "outputs": [],
   "source": [
    "import json\n",
    "with open('G:/Fall2017/Machine Learning/Classification/Assignment_2/important_words.json', 'r') as f: # Reads the list of most frequent words\n",
    "    important_words = json.load(f)\n",
    "important_words = [str(s) for s in important_words]"
   ]
  },
  {
   "cell_type": "code",
   "execution_count": 8,
   "metadata": {
    "collapsed": false
   },
   "outputs": [
    {
     "name": "stdout",
     "output_type": "stream",
     "text": [
      "['baby', 'one', 'great', 'love', 'use', 'would', 'like', 'easy', 'little', 'seat', 'old', 'well', 'get', 'also', 'really', 'son', 'time', 'bought', 'product', 'good', 'daughter', 'much', 'loves', 'stroller', 'put', 'months', 'car', 'still', 'back', 'used', 'recommend', 'first', 'even', 'perfect', 'nice', 'bag', 'two', 'using', 'got', 'fit', 'around', 'diaper', 'enough', 'month', 'price', 'go', 'could', 'soft', 'since', 'buy', 'room', 'works', 'made', 'child', 'keep', 'size', 'small', 'need', 'year', 'big', 'make', 'take', 'easily', 'think', 'crib', 'clean', 'way', 'quality', 'thing', 'better', 'without', 'set', 'new', 'every', 'cute', 'best', 'bottles', 'work', 'purchased', 'right', 'lot', 'side', 'happy', 'comfortable', 'toy', 'able', 'kids', 'bit', 'night', 'long', 'fits', 'see', 'us', 'another', 'play', 'day', 'money', 'monitor', 'tried', 'thought', 'never', 'item', 'hard', 'plastic', 'however', 'disappointed', 'reviews', 'something', 'going', 'pump', 'bottle', 'cup', 'waste', 'return', 'amazon', 'different', 'top', 'want', 'problem', 'know', 'water', 'try', 'received', 'sure', 'times', 'chair', 'find', 'hold', 'gate', 'open', 'bottom', 'away', 'actually', 'cheap', 'worked', 'getting', 'ordered', 'came', 'milk', 'bad', 'part', 'worth', 'found', 'cover', 'many', 'design', 'looking', 'weeks', 'say', 'wanted', 'look', 'place', 'purchase', 'looks', 'second', 'piece', 'box', 'pretty', 'trying', 'difficult', 'together', 'though', 'give', 'started', 'anything', 'last', 'company', 'come', 'returned', 'maybe', 'took', 'broke', 'makes', 'stay', 'instead', 'idea', 'head', 'said', 'less', 'went', 'working', 'high', 'unit', 'seems', 'picture', 'completely', 'wish', 'buying', 'babies', 'won', 'tub', 'almost', 'either']\n"
     ]
    }
   ],
   "source": [
    "print important_words"
   ]
  },
  {
   "cell_type": "markdown",
   "metadata": {},
   "source": [
    "Now, we will perform 2 simple data transformations:\n",
    "\n",
    "1. Remove punctuation using [Python's built-in](https://docs.python.org/2/library/string.html) string functionality.\n",
    "2. Compute word counts (only for **important_words**)\n",
    "\n",
    "We start with *Step 1* which can be done as follows:"
   ]
  },
  {
   "cell_type": "code",
   "execution_count": 9,
   "metadata": {
    "collapsed": false
   },
   "outputs": [],
   "source": [
    "def remove_punctuation(text):\n",
    "    import string\n",
    "    return text.translate(None, string.punctuation) \n",
    "\n",
    "products['review_clean'] = products['review'].apply(remove_punctuation)"
   ]
  },
  {
   "cell_type": "markdown",
   "metadata": {},
   "source": [
    "Now we proceed with *Step 2*. For each word in **important_words**, we compute a count for the number of times the word occurs in the review. We will store this count in a separate column (one for each word). The result of this feature processing is a single column for each word in **important_words** which keeps a count of the number of times the respective word occurs in the review text.\n",
    "\n",
    "\n",
    "**Note:** There are several ways of doing this. In this assignment, we use the built-in *count* function for Python lists. Each review string is first split into individual words and the number of occurances of a given word is counted."
   ]
  },
  {
   "cell_type": "code",
   "execution_count": 10,
   "metadata": {
    "collapsed": false
   },
   "outputs": [],
   "source": [
    "for word in important_words:\n",
    "    products[word] = products['review_clean'].apply(lambda s : s.split().count(word))"
   ]
  },
  {
   "cell_type": "markdown",
   "metadata": {},
   "source": [
    "The SFrame **products** now contains one column for each of the 193 **important_words**. As an example, the column **perfect** contains a count of the number of times the word **perfect** occurs in each of the reviews."
   ]
  },
  {
   "cell_type": "code",
   "execution_count": 11,
   "metadata": {
    "collapsed": false
   },
   "outputs": [
    {
     "data": {
      "text/plain": [
       "dtype: int\n",
       "Rows: 53072\n",
       "[0L, 0L, 0L, 1L, 0L, 0L, 0L, 0L, 0L, 0L, 0L, 1L, 0L, 0L, 0L, 0L, 0L, 0L, 0L, 0L, 0L, 0L, 1L, 0L, 1L, 0L, 0L, 1L, 0L, 0L, 0L, 0L, 0L, 0L, 0L, 0L, 0L, 0L, 0L, 0L, 0L, 0L, 0L, 0L, 0L, 0L, 0L, 0L, 0L, 0L, 0L, 0L, 0L, 0L, 0L, 0L, 0L, 0L, 0L, 0L, 0L, 0L, 0L, 0L, 0L, 0L, 0L, 0L, 0L, 0L, 0L, 0L, 0L, 0L, 0L, 0L, 0L, 0L, 0L, 0L, 0L, 0L, 0L, 0L, 0L, 0L, 0L, 0L, 0L, 0L, 0L, 0L, 0L, 0L, 0L, 0L, 0L, 0L, 0L, 0L, ... ]"
      ]
     },
     "execution_count": 11,
     "metadata": {},
     "output_type": "execute_result"
    }
   ],
   "source": [
    "products['perfect']"
   ]
  },
  {
   "cell_type": "markdown",
   "metadata": {},
   "source": [
    "Now, write some code to compute the number of product reviews that contain the word **perfect**.\n",
    "\n",
    "**Hint**: \n",
    "* First create a column called `contains_perfect` which is set to 1 if the count of the word **perfect** (stored in column **perfect**) is >= 1.\n",
    "* Sum the number of 1s in the column `contains_perfect`."
   ]
  },
  {
   "cell_type": "code",
   "execution_count": 16,
   "metadata": {
    "collapsed": false
   },
   "outputs": [
    {
     "name": "stdout",
     "output_type": "stream",
     "text": [
      "2955\n"
     ]
    }
   ],
   "source": [
    "products['contains_perfect'] = products['perfect'].apply(lambda s : s>=1)\n",
    "print sum(products['contains_perfect'])"
   ]
  },
  {
   "cell_type": "markdown",
   "metadata": {},
   "source": [
    "**Quiz Question**. How many reviews contain the word **perfect**?\n",
    "Answer: 2955"
   ]
  },
  {
   "cell_type": "markdown",
   "metadata": {},
   "source": [
    "## Convert SFrame to NumPy array\n",
    "\n",
    "As you have seen previously, NumPy is a powerful library for doing matrix manipulation. Let us convert our data to matrices and then implement our algorithms with matrices.\n",
    "\n",
    "First, make sure you can perform the following import."
   ]
  },
  {
   "cell_type": "code",
   "execution_count": 17,
   "metadata": {
    "collapsed": true
   },
   "outputs": [],
   "source": [
    "import numpy as np"
   ]
  },
  {
   "cell_type": "markdown",
   "metadata": {},
   "source": [
    "We now provide you with a function that extracts columns from an SFrame and converts them into a NumPy array. Two arrays are returned: one representing features and another representing class labels. Note that the feature matrix includes an additional column 'intercept' to take account of the intercept term."
   ]
  },
  {
   "cell_type": "code",
   "execution_count": 18,
   "metadata": {
    "collapsed": true
   },
   "outputs": [],
   "source": [
    "def get_numpy_data(data_sframe, features, label):\n",
    "    data_sframe['intercept'] = 1\n",
    "    features = ['intercept'] + features\n",
    "    features_sframe = data_sframe[features]\n",
    "    feature_matrix = features_sframe.to_numpy()\n",
    "    label_sarray = data_sframe[label]\n",
    "    label_array = label_sarray.to_numpy()\n",
    "    return(feature_matrix, label_array)"
   ]
  },
  {
   "cell_type": "markdown",
   "metadata": {},
   "source": [
    "Let us convert the data into NumPy arrays."
   ]
  },
  {
   "cell_type": "code",
   "execution_count": 19,
   "metadata": {
    "collapsed": false
   },
   "outputs": [
    {
     "data": {
      "text/plain": [
       "array([[1, 0, 0, ..., 0, 0, 0],\n",
       "       [1, 0, 0, ..., 0, 0, 0],\n",
       "       [1, 1, 0, ..., 0, 0, 0],\n",
       "       ..., \n",
       "       [1, 0, 0, ..., 0, 0, 0],\n",
       "       [1, 0, 1, ..., 0, 0, 0],\n",
       "       [1, 0, 0, ..., 0, 0, 0]], dtype=int64)"
      ]
     },
     "execution_count": 19,
     "metadata": {},
     "output_type": "execute_result"
    }
   ],
   "source": [
    "# Warning: This may take a few minutes...\n",
    "feature_matrix, sentiment = get_numpy_data(products, important_words, 'sentiment') \n",
    "feature_matrix"
   ]
  },
  {
   "cell_type": "markdown",
   "metadata": {},
   "source": [
    "**Are you running this notebook on an Amazon EC2 t2.micro instance?** (If you are using your own machine, please skip this section)\n",
    "\n",
    "It has been reported that t2.micro instances do not provide sufficient power to complete the conversion in acceptable amount of time. For interest of time, please refrain from running `get_numpy_data` function. Instead, download the [binary file](https://s3.amazonaws.com/static.dato.com/files/coursera/course-3/numpy-arrays/module-3-assignment-numpy-arrays.npz) containing the four NumPy arrays you'll need for the assignment. To load the arrays, run the following commands:\n",
    "```\n",
    "arrays = np.load('module-3-assignment-numpy-arrays.npz')\n",
    "feature_matrix, sentiment = arrays['feature_matrix'], arrays['sentiment']\n",
    "```"
   ]
  },
  {
   "cell_type": "code",
   "execution_count": 20,
   "metadata": {
    "collapsed": false
   },
   "outputs": [
    {
     "data": {
      "text/plain": [
       "(53072L, 194L)"
      ]
     },
     "execution_count": 20,
     "metadata": {},
     "output_type": "execute_result"
    }
   ],
   "source": [
    "feature_matrix.shape"
   ]
  },
  {
   "cell_type": "markdown",
   "metadata": {},
   "source": [
    "** Quiz Question:** How many features are there in the **feature_matrix**?193\n",
    "\n",
    "** Quiz Question:** Assuming that the intercept is present, how does the number of features in **feature_matrix** relate to the number of features in the logistic regression model?"
   ]
  },
  {
   "cell_type": "markdown",
   "metadata": {},
   "source": [
    "Now, let us see what the **sentiment** column looks like:"
   ]
  },
  {
   "cell_type": "code",
   "execution_count": 21,
   "metadata": {
    "collapsed": false
   },
   "outputs": [
    {
     "data": {
      "text/plain": [
       "array([ 1,  1,  1, ..., -1, -1, -1], dtype=int64)"
      ]
     },
     "execution_count": 21,
     "metadata": {},
     "output_type": "execute_result"
    }
   ],
   "source": [
    "sentiment"
   ]
  },
  {
   "cell_type": "markdown",
   "metadata": {},
   "source": [
    "## Estimating conditional probability with link function"
   ]
  },
  {
   "cell_type": "markdown",
   "metadata": {},
   "source": [
    "Recall from lecture that the link function is given by:\n",
    "$$\n",
    "P(y_i = +1 | \\mathbf{x}_i,\\mathbf{w}) = \\frac{1}{1 + \\exp(-\\mathbf{w}^T h(\\mathbf{x}_i))},\n",
    "$$\n",
    "\n",
    "where the feature vector $h(\\mathbf{x}_i)$ represents the word counts of **important_words** in the review  $\\mathbf{x}_i$. Complete the following function that implements the link function:"
   ]
  },
  {
   "cell_type": "code",
   "execution_count": 25,
   "metadata": {
    "collapsed": false
   },
   "outputs": [],
   "source": [
    "'''\n",
    "produces probablistic estimate for P(y_i = +1 | x_i, w).\n",
    "estimate ranges between 0 and 1.\n",
    "'''\n",
    "def predict_probability(feature_matrix, coefficients):\n",
    "    # Take dot product of feature_matrix and coefficients  \n",
    "    # YOUR CODE HERE\n",
    "    expcomponent = np.dot(feature_matrix,coefficients)\n",
    "    \n",
    "    # Compute P(y_i = +1 | x_i, w) using the link function\n",
    "    # YOUR CODE HERE\n",
    "    predictions = 1/(1+np.exp(-expcomponent))\n",
    "    \n",
    "    # return predictions\n",
    "    return predictions"
   ]
  },
  {
   "cell_type": "markdown",
   "metadata": {},
   "source": [
    "**Aside**. How the link function works with matrix algebra\n",
    "\n",
    "Since the word counts are stored as columns in **feature_matrix**, each $i$-th row of the matrix corresponds to the feature vector $h(\\mathbf{x}_i)$:\n",
    "$$\n",
    "[\\text{feature_matrix}] =\n",
    "\\left[\n",
    "\\begin{array}{c}\n",
    "h(\\mathbf{x}_1)^T \\\\\n",
    "h(\\mathbf{x}_2)^T \\\\\n",
    "\\vdots \\\\\n",
    "h(\\mathbf{x}_N)^T\n",
    "\\end{array}\n",
    "\\right] =\n",
    "\\left[\n",
    "\\begin{array}{cccc}\n",
    "h_0(\\mathbf{x}_1) & h_1(\\mathbf{x}_1) & \\cdots & h_D(\\mathbf{x}_1) \\\\\n",
    "h_0(\\mathbf{x}_2) & h_1(\\mathbf{x}_2) & \\cdots & h_D(\\mathbf{x}_2) \\\\\n",
    "\\vdots & \\vdots & \\ddots & \\vdots \\\\\n",
    "h_0(\\mathbf{x}_N) & h_1(\\mathbf{x}_N) & \\cdots & h_D(\\mathbf{x}_N)\n",
    "\\end{array}\n",
    "\\right]\n",
    "$$\n",
    "\n",
    "By the rules of matrix multiplication, the score vector containing elements $\\mathbf{w}^T h(\\mathbf{x}_i)$ is obtained by multiplying **feature_matrix** and the coefficient vector $\\mathbf{w}$.\n",
    "$$\n",
    "[\\text{score}] =\n",
    "[\\text{feature_matrix}]\\mathbf{w} =\n",
    "\\left[\n",
    "\\begin{array}{c}\n",
    "h(\\mathbf{x}_1)^T \\\\\n",
    "h(\\mathbf{x}_2)^T \\\\\n",
    "\\vdots \\\\\n",
    "h(\\mathbf{x}_N)^T\n",
    "\\end{array}\n",
    "\\right]\n",
    "\\mathbf{w}\n",
    "= \\left[\n",
    "\\begin{array}{c}\n",
    "h(\\mathbf{x}_1)^T\\mathbf{w} \\\\\n",
    "h(\\mathbf{x}_2)^T\\mathbf{w} \\\\\n",
    "\\vdots \\\\\n",
    "h(\\mathbf{x}_N)^T\\mathbf{w}\n",
    "\\end{array}\n",
    "\\right]\n",
    "= \\left[\n",
    "\\begin{array}{c}\n",
    "\\mathbf{w}^T h(\\mathbf{x}_1) \\\\\n",
    "\\mathbf{w}^T h(\\mathbf{x}_2) \\\\\n",
    "\\vdots \\\\\n",
    "\\mathbf{w}^T h(\\mathbf{x}_N)\n",
    "\\end{array}\n",
    "\\right]\n",
    "$$"
   ]
  },
  {
   "cell_type": "markdown",
   "metadata": {},
   "source": [
    "**Checkpoint**\n",
    "\n",
    "Just to make sure you are on the right track, we have provided a few examples. If your `predict_probability` function is implemented correctly, then the outputs will match:"
   ]
  },
  {
   "cell_type": "code",
   "execution_count": 26,
   "metadata": {
    "collapsed": false
   },
   "outputs": [
    {
     "name": "stdout",
     "output_type": "stream",
     "text": [
      "The following outputs must match \n",
      "------------------------------------------------\n",
      "correct_predictions           = [ 0.98201379  0.26894142]\n",
      "output of predict_probability = [ 0.98201379  0.26894142]\n"
     ]
    }
   ],
   "source": [
    "dummy_feature_matrix = np.array([[1.,2.,3.], [1.,-1.,-1]])\n",
    "dummy_coefficients = np.array([1., 3., -1.])\n",
    "\n",
    "correct_scores      = np.array( [ 1.*1. + 2.*3. + 3.*(-1.),          1.*1. + (-1.)*3. + (-1.)*(-1.) ] )\n",
    "correct_predictions = np.array( [ 1./(1+np.exp(-correct_scores[0])), 1./(1+np.exp(-correct_scores[1])) ] )\n",
    "\n",
    "print 'The following outputs must match '\n",
    "print '------------------------------------------------'\n",
    "print 'correct_predictions           =', correct_predictions\n",
    "print 'output of predict_probability =', predict_probability(dummy_feature_matrix, dummy_coefficients)"
   ]
  },
  {
   "cell_type": "markdown",
   "metadata": {},
   "source": [
    "## Compute derivative of log likelihood with respect to a single coefficient\n",
    "\n",
    "Recall from lecture:\n",
    "$$\n",
    "\\frac{\\partial\\ell}{\\partial w_j} = \\sum_{i=1}^N h_j(\\mathbf{x}_i)\\left(\\mathbf{1}[y_i = +1] - P(y_i = +1 | \\mathbf{x}_i, \\mathbf{w})\\right)\n",
    "$$\n",
    "\n",
    "We will now write a function that computes the derivative of log likelihood with respect to a single coefficient $w_j$. The function accepts two arguments:\n",
    "* `errors` vector containing $\\mathbf{1}[y_i = +1] - P(y_i = +1 | \\mathbf{x}_i, \\mathbf{w})$ for all $i$.\n",
    "* `feature` vector containing $h_j(\\mathbf{x}_i)$  for all $i$. \n",
    "\n",
    "Complete the following code block:"
   ]
  },
  {
   "cell_type": "code",
   "execution_count": 27,
   "metadata": {
    "collapsed": true
   },
   "outputs": [],
   "source": [
    "def feature_derivative(errors, feature):     \n",
    "    # Compute the dot product of errors and feature\n",
    "    derivative = np.dot(errors, feature)\n",
    "    \n",
    "    # Return the derivative\n",
    "    return derivative"
   ]
  },
  {
   "cell_type": "markdown",
   "metadata": {},
   "source": [
    "In the main lecture, our focus was on the likelihood.  In the advanced optional video, however, we introduced a transformation of this likelihood---called the log likelihood---that simplifies the derivation of the gradient and is more numerically stable.  Due to its numerical stability, we will use the log likelihood instead of the likelihood to assess the algorithm.\n",
    "\n",
    "The log likelihood is computed using the following formula (see the advanced optional video if you are curious about the derivation of this equation):\n",
    "\n",
    "$$\\ell\\ell(\\mathbf{w}) = \\sum_{i=1}^N \\Big( (\\mathbf{1}[y_i = +1] - 1)\\mathbf{w}^T h(\\mathbf{x}_i) - \\ln\\left(1 + \\exp(-\\mathbf{w}^T h(\\mathbf{x}_i))\\right) \\Big) $$\n",
    "\n",
    "We provide a function to compute the log likelihood for the entire dataset. "
   ]
  },
  {
   "cell_type": "code",
   "execution_count": 28,
   "metadata": {
    "collapsed": false
   },
   "outputs": [],
   "source": [
    "def compute_log_likelihood(feature_matrix, sentiment, coefficients):\n",
    "    indicator = (sentiment==+1)\n",
    "    scores = np.dot(feature_matrix, coefficients)\n",
    "    logexp = np.log(1. + np.exp(-scores))\n",
    "    \n",
    "    # Simple check to prevent overflow\n",
    "    mask = np.isinf(logexp)\n",
    "    mask\n",
    "    logexp[mask] = -scores[mask]\n",
    "    \n",
    "    lp = np.sum((indicator-1)*scores - logexp)\n",
    "    return lp"
   ]
  },
  {
   "cell_type": "markdown",
   "metadata": {},
   "source": [
    "**Checkpoint**\n",
    "\n",
    "Just to make sure we are on the same page, run the following code block and check that the outputs match."
   ]
  },
  {
   "cell_type": "code",
   "execution_count": 31,
   "metadata": {
    "collapsed": false
   },
   "outputs": [
    {
     "name": "stdout",
     "output_type": "stream",
     "text": [
      "[[ 1.  2.  3.]\n",
      " [ 1. -1. -1.]]\n",
      "dummy coefficients    = [ 1.  3. -1.]\n",
      "dummy sentiment   = [-1  1]\n",
      "correct_indicators    = [False  True]\n",
      "correct scores     = [ 4. -1.]\n",
      "correct first term = [-4. -0.]\n",
      "correct second term = [ 0.01814993  1.31326169]\n",
      "The following outputs must match \n",
      "------------------------------------------------\n",
      "correct_log_likelihood           = -5.33141161544\n",
      "output of compute_log_likelihood = -5.33141161544\n"
     ]
    }
   ],
   "source": [
    "dummy_feature_matrix = np.array([[1.,2.,3.], [1.,-1.,-1]])\n",
    "print dummy_feature_matrix\n",
    "dummy_coefficients = np.array([1., 3., -1.])\n",
    "print 'dummy coefficients    =',dummy_coefficients\n",
    "dummy_sentiment = np.array([-1, 1])\n",
    "print 'dummy sentiment   =',dummy_sentiment\n",
    "\n",
    "correct_indicators  = np.array( [ -1==+1,                                       1==+1 ] )\n",
    "print 'correct_indicators    =',correct_indicators\n",
    "correct_scores      = np.array( [ 1.*1. + 2.*3. + 3.*(-1.),                     1.*1. + (-1.)*3. + (-1.)*(-1.) ] )\n",
    "print 'correct scores     =',correct_scores\n",
    "correct_first_term  = np.array( [ (correct_indicators[0]-1)*correct_scores[0],  (correct_indicators[1]-1)*correct_scores[1] ] )\n",
    "print 'correct first term =', correct_first_term\n",
    "correct_second_term = np.array( [ np.log(1. + np.exp(-correct_scores[0])),      np.log(1. + np.exp(-correct_scores[1])) ] )\n",
    "print 'correct second term =', correct_second_term\n",
    "\n",
    "correct_ll          =      sum( [ correct_first_term[0]-correct_second_term[0], correct_first_term[1]-correct_second_term[1] ] ) \n",
    "\n",
    "print 'The following outputs must match '\n",
    "print '------------------------------------------------'\n",
    "print 'correct_log_likelihood           =', correct_ll\n",
    "print 'output of compute_log_likelihood =', compute_log_likelihood(dummy_feature_matrix, dummy_sentiment, dummy_coefficients)"
   ]
  },
  {
   "cell_type": "markdown",
   "metadata": {},
   "source": [
    "## Taking gradient steps"
   ]
  },
  {
   "cell_type": "markdown",
   "metadata": {},
   "source": [
    "Now we are ready to implement our own logistic regression. All we have to do is to write a gradient ascent function that takes gradient steps towards the optimum. \n",
    "\n",
    "Complete the following function to solve the logistic regression model using gradient ascent:"
   ]
  },
  {
   "cell_type": "code",
   "execution_count": 105,
   "metadata": {
    "collapsed": false
   },
   "outputs": [],
   "source": [
    "from math import sqrt\n",
    "\n",
    "def logistic_regression(feature_matrix, sentiment, initial_coefficients, step_size, max_iter):\n",
    "    coefficients = np.array(initial_coefficients) # make sure it's a numpy array\n",
    "    for itr in xrange(max_iter):\n",
    "\n",
    "        # Predict P(y_i = +1|x_i,w) using your predict_probability() function\n",
    "        # YOUR CODE HERE\n",
    "        predictions = predict_probability(feature_matrix,coefficients)\n",
    "        print 'predictions =',predictions\n",
    "        # Compute indicator value for (y_i = +1)\n",
    "        indicator = (sentiment==+1)\n",
    "        \n",
    "        # Compute the errors as indicator - predictions\n",
    "        errors = indicator - predictions\n",
    "        print 'errors = ', errors\n",
    "        for j in xrange(len(coefficients)): # loop over each coefficient\n",
    "            \n",
    "            # Recall that feature_matrix[:,j] is the feature column associated with coefficients[j].\n",
    "            # Compute the derivative for coefficients[j]. Save it in a variable called derivative\n",
    "            # YOUR CODE HERE\n",
    "            derivative = feature_derivative(errors, feature_matrix[:,j])\n",
    "            #print 'derivative = ',derivative\n",
    "            # add the step size times the derivative to the current coefficient\n",
    "            ## YOUR CODE HERE\n",
    "            #print 'coefficients[j] = ',coefficients[j]\n",
    "            #print 'step size = ', step_size\n",
    "            #print 'dot product = ',np.dot(step_size,derivative)\n",
    "            coefficients[j] = coefficients[j] + np.dot(step_size,derivative)\n",
    "        \n",
    "        # Checking whether log likelihood is increasing\n",
    "        if itr <= 15 or (itr <= 100 and itr % 10 == 0) or (itr <= 1000 and itr % 100 == 0) \\\n",
    "        or (itr <= 10000 and itr % 1000 == 0) or itr % 10000 == 0:\n",
    "            lp = compute_log_likelihood(feature_matrix, sentiment, coefficients)\n",
    "            print 'iteration %*d: log likelihood of observed labels = %.8f' % \\\n",
    "                (int(np.ceil(np.log10(max_iter))), itr, lp)\n",
    "    return coefficients"
   ]
  },
  {
   "cell_type": "markdown",
   "metadata": {},
   "source": [
    "Now, let us run the logistic regression solver."
   ]
  },
  {
   "cell_type": "code",
   "execution_count": 106,
   "metadata": {
    "collapsed": false
   },
   "outputs": [
    {
     "name": "stdout",
     "output_type": "stream",
     "text": [
      "predictions = [ 0.5  0.5  0.5 ...,  0.5  0.5  0.5]\n",
      "errors =  [ 0.5  0.5  0.5 ..., -0.5 -0.5 -0.5]\n",
      "iteration   0: log likelihood of observed labels = -36780.91768478\n",
      "predictions = [ 0.50003356  0.49996504  0.50000519 ...,  0.49960264  0.49998548\n",
      "  0.49992939]\n",
      "errors =  [ 0.49996644  0.50003496  0.49999481 ..., -0.49960264 -0.49998548\n",
      " -0.49992939]\n",
      "iteration   1: log likelihood of observed labels = -36775.13434712\n",
      "predictions = [ 0.50006724  0.49993019  0.50001055 ...,  0.49920579  0.49997124\n",
      "  0.49985893]\n",
      "errors =  [ 0.49993276  0.50006981  0.49998945 ..., -0.49920579 -0.49997124\n",
      " -0.49985893]\n",
      "iteration   2: log likelihood of observed labels = -36769.35713564\n",
      "predictions = [ 0.50010103  0.49989545  0.50001609 ...,  0.49880946  0.49995729\n",
      "  0.49978862]\n",
      "errors =  [ 0.49989897  0.50010455  0.49998391 ..., -0.49880946 -0.49995729\n",
      " -0.49978862]\n",
      "iteration   3: log likelihood of observed labels = -36763.58603240\n",
      "predictions = [ 0.50013494  0.49986083  0.5000218  ...,  0.49841364  0.49994363\n",
      "  0.49971846]\n",
      "errors =  [ 0.49986506  0.50013917  0.4999782  ..., -0.49841364 -0.49994363\n",
      " -0.49971846]\n",
      "iteration   4: log likelihood of observed labels = -36757.82101962\n",
      "predictions = [ 0.50016896  0.49982632  0.50002768 ...,  0.49801833  0.49993026\n",
      "  0.49964845]\n",
      "errors =  [ 0.49983104  0.50017368  0.49997232 ..., -0.49801833 -0.49993026\n",
      " -0.49964845]\n",
      "iteration   5: log likelihood of observed labels = -36752.06207964\n",
      "predictions = [ 0.50020309  0.49979192  0.50003374 ...,  0.49762353  0.49991717\n",
      "  0.49957859]\n",
      "errors =  [ 0.49979691  0.50020808  0.49996626 ..., -0.49762353 -0.49991717\n",
      " -0.49957859]\n",
      "iteration   6: log likelihood of observed labels = -36746.30919497\n",
      "predictions = [ 0.50023734  0.49975763  0.50003996 ...,  0.49722924  0.49990436\n",
      "  0.49950888]\n",
      "errors =  [ 0.49976266  0.50024237  0.49996004 ..., -0.49722924 -0.49990436\n",
      " -0.49950888]\n",
      "iteration   7: log likelihood of observed labels = -36740.56234821\n",
      "predictions = [ 0.50027169  0.49972345  0.50004636 ...,  0.49683546  0.49989183\n",
      "  0.49943932]\n",
      "errors =  [ 0.49972831  0.50027655  0.49995364 ..., -0.49683546 -0.49989183\n",
      " -0.49943932]\n",
      "iteration   8: log likelihood of observed labels = -36734.82152213\n",
      "predictions = [ 0.50030616  0.49968938  0.50005292 ...,  0.49644218  0.49987958\n",
      "  0.49936991]\n",
      "errors =  [ 0.49969384  0.50031062  0.49994708 ..., -0.49644218 -0.49987958\n",
      " -0.49936991]\n",
      "iteration   9: log likelihood of observed labels = -36729.08669961\n",
      "predictions = [ 0.50034073  0.49965541  0.50005965 ...,  0.49604941  0.49986761\n",
      "  0.49930064]\n",
      "errors =  [ 0.49965927  0.50034459  0.49994035 ..., -0.49604941 -0.49986761\n",
      " -0.49930064]\n",
      "iteration  10: log likelihood of observed labels = -36723.35786366\n",
      "predictions = [ 0.50037541  0.49962156  0.50006654 ...,  0.49565714  0.49985591\n",
      "  0.49923151]\n",
      "errors =  [ 0.49962459  0.50037844  0.49993346 ..., -0.49565714 -0.49985591\n",
      " -0.49923151]\n",
      "iteration  11: log likelihood of observed labels = -36717.63499744\n",
      "predictions = [ 0.5004102   0.49958781  0.5000736  ...,  0.49526537  0.49984449\n",
      "  0.49916253]\n",
      "errors =  [ 0.4995898   0.50041219  0.4999264  ..., -0.49526537 -0.49984449\n",
      " -0.49916253]\n",
      "iteration  12: log likelihood of observed labels = -36711.91808422\n",
      "predictions = [ 0.5004451   0.49955418  0.50008083 ...,  0.4948741   0.49983334\n",
      "  0.49909369]\n",
      "errors =  [ 0.4995549   0.50044582  0.49991917 ..., -0.4948741  -0.49983334\n",
      " -0.49909369]\n",
      "iteration  13: log likelihood of observed labels = -36706.20710739\n",
      "predictions = [ 0.5004801   0.49952064  0.50008821 ...,  0.49448334  0.49982246  0.499025  ]\n",
      "errors =  [ 0.4995199   0.50047936  0.49991179 ..., -0.49448334 -0.49982246 -0.499025  ]\n",
      "iteration  14: log likelihood of observed labels = -36700.50205049\n",
      "predictions = [ 0.50051521  0.49948721  0.50009576 ...,  0.49409307  0.49981185\n",
      "  0.49895645]\n",
      "errors =  [ 0.49948479  0.50051279  0.49990424 ..., -0.49409307 -0.49981185\n",
      " -0.49895645]\n",
      "iteration  15: log likelihood of observed labels = -36694.80289716\n",
      "predictions = [ 0.50055042  0.49945389  0.50010347 ...,  0.49370329  0.49980151\n",
      "  0.49888804]\n",
      "errors =  [ 0.49944958  0.50054611  0.49989653 ..., -0.49370329 -0.49980151\n",
      " -0.49888804]\n",
      "predictions = [ 0.50058574  0.49942068  0.50011134 ...,  0.49331401  0.49979143\n",
      "  0.49881977]\n",
      "errors =  [ 0.49941426  0.50057932  0.49988866 ..., -0.49331401 -0.49979143\n",
      " -0.49881977]\n",
      "predictions = [ 0.50062115  0.49938756  0.50011936 ...,  0.49292523  0.49978162\n",
      "  0.49875164]\n",
      "errors =  [ 0.49937885  0.50061244  0.49988064 ..., -0.49292523 -0.49978162\n",
      " -0.49875164]\n",
      "predictions = [ 0.50065668  0.49935455  0.50012755 ...,  0.49253694  0.49977207\n",
      "  0.49868365]\n",
      "errors =  [ 0.49934332  0.50064545  0.49987245 ..., -0.49253694 -0.49977207\n",
      " -0.49868365]\n",
      "predictions = [ 0.5006923   0.49932165  0.50013589 ...,  0.49214913  0.49976279\n",
      "  0.4986158 ]\n",
      "errors =  [ 0.4993077   0.50067835  0.49986411 ..., -0.49214913 -0.49976279\n",
      " -0.4986158 ]\n",
      "iteration  20: log likelihood of observed labels = -36666.39512033\n",
      "predictions = [ 0.50072802  0.49928884  0.50014438 ...,  0.49176182  0.49975376\n",
      "  0.49854809]\n",
      "errors =  [ 0.49927198  0.50071116  0.49985562 ..., -0.49176182 -0.49975376\n",
      " -0.49854809]\n",
      "predictions = [ 0.50076384  0.49925614  0.50015303 ...,  0.491375    0.49974499\n",
      "  0.49848051]\n",
      "errors =  [ 0.49923616  0.50074386  0.49984697 ..., -0.491375   -0.49974499\n",
      " -0.49848051]\n",
      "predictions = [ 0.50079976  0.49922354  0.50016184 ...,  0.49098866  0.49973648\n",
      "  0.49841307]\n",
      "errors =  [ 0.49920024  0.50077646  0.49983816 ..., -0.49098866 -0.49973648\n",
      " -0.49841307]\n",
      "predictions = [ 0.50083578  0.49919103  0.50017079 ...,  0.49060282  0.49972823\n",
      "  0.49834577]\n",
      "errors =  [ 0.49916422  0.50080897  0.49982921 ..., -0.49060282 -0.49972823\n",
      " -0.49834577]\n",
      "predictions = [ 0.5008719   0.49915863  0.5001799  ...,  0.49021745  0.49972022\n",
      "  0.4982786 ]\n",
      "errors =  [ 0.4991281   0.50084137  0.4998201  ..., -0.49021745 -0.49972022\n",
      " -0.4982786 ]\n",
      "predictions = [ 0.50090812  0.49912633  0.50018916 ...,  0.48983257  0.49971248\n",
      "  0.49821157]\n",
      "errors =  [ 0.49909188  0.50087367  0.49981084 ..., -0.48983257 -0.49971248\n",
      " -0.49821157]\n",
      "predictions = [ 0.50094443  0.49909413  0.50019857 ...,  0.48944817  0.49970498\n",
      "  0.49814467]\n",
      "errors =  [ 0.49905557  0.50090587  0.49980143 ..., -0.48944817 -0.49970498\n",
      " -0.49814467]\n",
      "predictions = [ 0.50098083  0.49906203  0.50020812 ...,  0.48906425  0.49969773\n",
      "  0.4980779 ]\n",
      "errors =  [ 0.49901917  0.50093797  0.49979188 ..., -0.48906425 -0.49969773\n",
      " -0.4980779 ]\n",
      "predictions = [ 0.50101733  0.49903002  0.50021782 ...,  0.48868081  0.49969073\n",
      "  0.49801126]\n",
      "errors =  [ 0.49898267  0.50096998  0.49978218 ..., -0.48868081 -0.49969073\n",
      " -0.49801126]\n",
      "predictions = [ 0.50105393  0.49899811  0.50022767 ...,  0.48829785  0.49968398\n",
      "  0.49794476]\n",
      "errors =  [ 0.49894607  0.50100189  0.49977233 ..., -0.48829785 -0.49968398\n",
      " -0.49794476]\n",
      "iteration  30: log likelihood of observed labels = -36610.01327118\n",
      "predictions = [ 0.50109062  0.4989663   0.50023767 ...,  0.48791537  0.49967747\n",
      "  0.49787838]\n",
      "errors =  [ 0.49890938  0.5010337   0.49976233 ..., -0.48791537 -0.49967747\n",
      " -0.49787838]\n",
      "predictions = [ 0.5011274   0.49893458  0.50024781 ...,  0.48753336  0.49967121\n",
      "  0.49781214]\n",
      "errors =  [ 0.4988726   0.50106542  0.49975219 ..., -0.48753336 -0.49967121\n",
      " -0.49781214]\n",
      "predictions = [ 0.50116427  0.49890296  0.5002581  ...,  0.48715183  0.49966519\n",
      "  0.49774602]\n",
      "errors =  [ 0.49883573  0.50109704  0.4997419  ..., -0.48715183 -0.49966519\n",
      " -0.49774602]\n",
      "predictions = [ 0.50120123  0.49887144  0.50026852 ...,  0.48677077  0.49965941\n",
      "  0.49768004]\n",
      "errors =  [ 0.49879877  0.50112856  0.49973148 ..., -0.48677077 -0.49965941\n",
      " -0.49768004]\n",
      "predictions = [ 0.50123829  0.49884001  0.50027909 ...,  0.48639018  0.49965387\n",
      "  0.49761418]\n",
      "errors =  [ 0.49876171  0.50115999  0.49972091 ..., -0.48639018 -0.49965387\n",
      " -0.49761418]\n",
      "predictions = [ 0.50127543  0.49880868  0.5002898  ...,  0.48601007  0.49964857\n",
      "  0.49754845]\n",
      "errors =  [ 0.49872457  0.50119132  0.4997102  ..., -0.48601007 -0.49964857\n",
      " -0.49754845]\n",
      "predictions = [ 0.50131267  0.49877743  0.50030065 ...,  0.48563042  0.49964351\n",
      "  0.49748285]\n",
      "errors =  [ 0.49868733  0.50122257  0.49969935 ..., -0.48563042 -0.49964351\n",
      " -0.49748285]\n",
      "predictions = [ 0.50134999  0.49874628  0.50031164 ...,  0.48525124  0.49963868\n",
      "  0.49741737]\n",
      "errors =  [ 0.49865001  0.50125372  0.49968836 ..., -0.48525124 -0.49963868\n",
      " -0.49741737]\n",
      "predictions = [ 0.5013874   0.49871523  0.50032277 ...,  0.48487253  0.49963409\n",
      "  0.49735202]\n",
      "errors =  [ 0.4986126   0.50128477  0.49967723 ..., -0.48487253 -0.49963409\n",
      " -0.49735202]\n",
      "predictions = [ 0.50142489  0.49868427  0.50033403 ...,  0.48449429  0.49962973\n",
      "  0.49728679]\n",
      "errors =  [ 0.49857511  0.50131573  0.49966597 ..., -0.48449429 -0.49962973\n",
      " -0.49728679]\n",
      "iteration  40: log likelihood of observed labels = -36554.19728365\n",
      "predictions = [ 0.50146248  0.49865339  0.50034543 ...,  0.48411651  0.4996256\n",
      "  0.49722169]\n",
      "errors =  [ 0.49853752  0.50134661  0.49965457 ..., -0.48411651 -0.4996256\n",
      " -0.49722169]\n",
      "predictions = [ 0.50150015  0.49862261  0.50035697 ...,  0.48373919  0.4996217\n",
      "  0.49715671]\n",
      "errors =  [ 0.49849985  0.50137739  0.49964303 ..., -0.48373919 -0.4996217\n",
      " -0.49715671]\n",
      "predictions = [ 0.5015379   0.49859192  0.50036864 ...,  0.48336234  0.49961803\n",
      "  0.49709185]\n",
      "errors =  [ 0.4984621   0.50140808  0.49963136 ..., -0.48336234 -0.49961803\n",
      " -0.49709185]\n",
      "predictions = [ 0.50157574  0.49856132  0.50038044 ...,  0.48298595  0.49961459\n",
      "  0.49702712]\n",
      "errors =  [ 0.49842426  0.50143868  0.49961956 ..., -0.48298595 -0.49961459\n",
      " -0.49702712]\n",
      "predictions = [ 0.50161366  0.49853081  0.50039238 ...,  0.48261002  0.49961137\n",
      "  0.4969625 ]\n",
      "errors =  [ 0.49838634  0.50146919  0.49960762 ..., -0.48261002 -0.49961137\n",
      " -0.4969625 ]\n",
      "predictions = [ 0.50165167  0.49850039  0.50040445 ...,  0.48223455  0.49960838\n",
      "  0.49689801]\n",
      "errors =  [ 0.49834833  0.50149961  0.49959555 ..., -0.48223455 -0.49960838\n",
      " -0.49689801]\n",
      "predictions = [ 0.50168975  0.49847006  0.50041665 ...,  0.48185953  0.49960561\n",
      "  0.49683364]\n",
      "errors =  [ 0.49831025  0.50152994  0.49958335 ..., -0.48185953 -0.49960561\n",
      " -0.49683364]\n",
      "predictions = [ 0.50172792  0.49843981  0.50042898 ...,  0.48148497  0.49960307\n",
      "  0.49676939]\n",
      "errors =  [ 0.49827208  0.50156019  0.49957102 ..., -0.48148497 -0.49960307\n",
      " -0.49676939]\n",
      "predictions = [ 0.50176617  0.49840965  0.50044144 ...,  0.48111087  0.49960075\n",
      "  0.49670525]\n",
      "errors =  [ 0.49823383  0.50159035  0.49955856 ..., -0.48111087 -0.49960075\n",
      " -0.49670525]\n",
      "predictions = [ 0.50180451  0.49837959  0.50045403 ...,  0.48073722  0.49959864\n",
      "  0.49664124]\n",
      "errors =  [ 0.49819549  0.50162041  0.49954597 ..., -0.48073722 -0.49959864\n",
      " -0.49664124]\n",
      "iteration  50: log likelihood of observed labels = -36498.93316099\n",
      "predictions = [ 0.50184292  0.4983496   0.50046674 ...,  0.48036403  0.49959676\n",
      "  0.49657734]\n",
      "errors =  [ 0.49815708  0.5016504   0.49953326 ..., -0.48036403 -0.49959676\n",
      " -0.49657734]\n",
      "predictions = [ 0.50188141  0.49831971  0.50047959 ...,  0.47999129  0.49959509\n",
      "  0.49651356]\n",
      "errors =  [ 0.49811859  0.50168029  0.49952041 ..., -0.47999129 -0.49959509\n",
      " -0.49651356]\n",
      "predictions = [ 0.50191998  0.49828989  0.50049255 ...,  0.479619    0.49959364\n",
      "  0.4964499 ]\n",
      "errors =  [ 0.49808002  0.50171011  0.49950745 ..., -0.479619   -0.49959364\n",
      " -0.4964499 ]\n",
      "predictions = [ 0.50195863  0.49826017  0.50050565 ...,  0.47924715  0.4995924\n",
      "  0.49638635]\n",
      "errors =  [ 0.49804137  0.50173983  0.49949435 ..., -0.47924715 -0.4995924\n",
      " -0.49638635]\n",
      "predictions = [ 0.50199735  0.49823053  0.50051887 ...,  0.47887576  0.49959138\n",
      "  0.49632292]\n",
      "errors =  [ 0.49800265  0.50176947  0.49948113 ..., -0.47887576 -0.49959138\n",
      " -0.49632292]\n",
      "predictions = [ 0.50203615  0.49820097  0.50053221 ...,  0.47850482  0.49959056\n",
      "  0.4962596 ]\n",
      "errors =  [ 0.49796385  0.50179903  0.49946779 ..., -0.47850482 -0.49959056\n",
      " -0.4962596 ]\n",
      "predictions = [ 0.50207503  0.4981715   0.50054567 ...,  0.47813432  0.49958996\n",
      "  0.4961964 ]\n",
      "errors =  [ 0.49792497  0.5018285   0.49945433 ..., -0.47813432 -0.49958996\n",
      " -0.4961964 ]\n",
      "predictions = [ 0.50211398  0.49814211  0.50055926 ...,  0.47776426  0.49958957\n",
      "  0.49613331]\n",
      "errors =  [ 0.49788602  0.50185789  0.49944074 ..., -0.47776426 -0.49958957\n",
      " -0.49613331]\n",
      "predictions = [ 0.50215301  0.4981128   0.50057296 ...,  0.47739465  0.49958939\n",
      "  0.49607033]\n",
      "errors =  [ 0.49784699  0.5018872   0.49942704 ..., -0.47739465 -0.49958939\n",
      " -0.49607033]\n",
      "predictions = [ 0.50219211  0.49808358  0.50058679 ...,  0.47702549  0.49958941\n",
      "  0.49600746]\n",
      "errors =  [ 0.49780789  0.50191642  0.49941321 ..., -0.47702549 -0.49958941\n",
      " -0.49600746]\n",
      "iteration  60: log likelihood of observed labels = -36444.20783914\n",
      "predictions = [ 0.50223129  0.49805444  0.50060073 ...,  0.47665677  0.49958964\n",
      "  0.49594471]\n",
      "errors =  [ 0.49776871  0.50194556  0.49939927 ..., -0.47665677 -0.49958964\n",
      " -0.49594471]\n",
      "predictions = [ 0.50227054  0.49802538  0.5006148  ...,  0.47628848  0.49959008\n",
      "  0.49588207]\n",
      "errors =  [ 0.49772946  0.50197462  0.4993852  ..., -0.47628848 -0.49959008\n",
      " -0.49588207]\n",
      "predictions = [ 0.50230986  0.4979964   0.50062898 ...,  0.47592064  0.49959072\n",
      "  0.49581954]\n",
      "errors =  [ 0.49769014  0.5020036   0.49937102 ..., -0.47592064 -0.49959072\n",
      " -0.49581954]\n",
      "predictions = [ 0.50234926  0.4979675   0.50064328 ...,  0.47555324  0.49959156\n",
      "  0.49575712]\n",
      "errors =  [ 0.49765074  0.5020325   0.49935672 ..., -0.47555324 -0.49959156\n",
      " -0.49575712]\n",
      "predictions = [ 0.50238872  0.49793869  0.50065769 ...,  0.47518627  0.49959261\n",
      "  0.49569481]\n",
      "errors =  [ 0.49761128  0.50206131  0.49934231 ..., -0.47518627 -0.49959261\n",
      " -0.49569481]\n",
      "predictions = [ 0.50242826  0.49790995  0.50067222 ...,  0.47481974  0.49959385\n",
      "  0.4956326 ]\n",
      "errors =  [ 0.49757174  0.50209005  0.49932778 ..., -0.47481974 -0.49959385\n",
      " -0.4956326 ]\n",
      "predictions = [ 0.50246787  0.49788129  0.50068687 ...,  0.47445364  0.49959529\n",
      "  0.49557051]\n",
      "errors =  [ 0.49753213  0.50211871  0.49931313 ..., -0.47445364 -0.49959529\n",
      " -0.49557051]\n",
      "predictions = [ 0.50250754  0.49785271  0.50070163 ...,  0.47408798  0.49959693\n",
      "  0.49550852]\n",
      "errors =  [ 0.49749246  0.50214729  0.49929837 ..., -0.47408798 -0.49959693\n",
      " -0.49550852]\n",
      "predictions = [ 0.50254729  0.49782421  0.5007165  ...,  0.47372276  0.49959877\n",
      "  0.49544664]\n",
      "errors =  [ 0.49745271  0.50217579  0.4992835  ..., -0.47372276 -0.49959877\n",
      " -0.49544664]\n",
      "predictions = [ 0.50258711  0.49779579  0.50073148 ...,  0.47335796  0.4996008\n",
      "  0.49538487]\n",
      "errors =  [ 0.49741289  0.50220421  0.49926852 ..., -0.47335796 -0.4996008\n",
      " -0.49538487]\n",
      "iteration  70: log likelihood of observed labels = -36390.00909449\n",
      "predictions = [ 0.50262699  0.49776744  0.50074658 ...,  0.4729936   0.49960303\n",
      "  0.49532321]\n",
      "errors =  [ 0.49737301  0.50223256  0.49925342 ..., -0.4729936  -0.49960303\n",
      " -0.49532321]\n",
      "predictions = [ 0.50266694  0.49773917  0.50076178 ...,  0.47262967  0.49960545\n",
      "  0.49526164]\n",
      "errors =  [ 0.49733306  0.50226083  0.49923822 ..., -0.47262967 -0.49960545\n",
      " -0.49526164]\n",
      "predictions = [ 0.50270695  0.49771098  0.5007771  ...,  0.47226617  0.49960806\n",
      "  0.49520019]\n",
      "errors =  [ 0.49729305  0.50228902  0.4992229  ..., -0.47226617 -0.49960806\n",
      " -0.49520019]\n",
      "predictions = [ 0.50274704  0.49768287  0.50079252 ...,  0.47190309  0.49961086\n",
      "  0.49513884]\n",
      "errors =  [ 0.49725296  0.50231713  0.49920748 ..., -0.47190309 -0.49961086\n",
      " -0.49513884]\n",
      "predictions = [ 0.50278719  0.49765483  0.50080806 ...,  0.47154044  0.49961386\n",
      "  0.49507759]\n",
      "errors =  [ 0.49721281  0.50234517  0.49919194 ..., -0.47154044 -0.49961386\n",
      " -0.49507759]\n",
      "predictions = [ 0.5028274   0.49762687  0.5008237  ...,  0.47117822  0.49961704\n",
      "  0.49501645]\n",
      "errors =  [ 0.4971726   0.50237313  0.4991763  ..., -0.47117822 -0.49961704\n",
      " -0.49501645]\n",
      "predictions = [ 0.50286768  0.49759898  0.50083945 ...,  0.47081643  0.49962041\n",
      "  0.49495541]\n",
      "errors =  [ 0.49713232  0.50240102  0.49916055 ..., -0.47081643 -0.49962041\n",
      " -0.49495541]\n",
      "predictions = [ 0.50290802  0.49757117  0.5008553  ...,  0.47045505  0.49962396\n",
      "  0.49489447]\n",
      "errors =  [ 0.49709198  0.50242883  0.4991447  ..., -0.47045505 -0.49962396\n",
      " -0.49489447]\n",
      "predictions = [ 0.50294843  0.49754343  0.50087126 ...,  0.47009411  0.4996277\n",
      "  0.49483363]\n",
      "errors =  [ 0.49705157  0.50245657  0.49912874 ..., -0.47009411 -0.4996277\n",
      " -0.49483363]\n",
      "predictions = [ 0.5029889   0.49751576  0.50088733 ...,  0.46973358  0.49963163\n",
      "  0.49477289]\n",
      "errors =  [ 0.4970111   0.50248424  0.49911267 ..., -0.46973358 -0.49963163\n",
      " -0.49477289]\n",
      "iteration  80: log likelihood of observed labels = -36336.32546144\n",
      "predictions = [ 0.50302943  0.49748817  0.5009035  ...,  0.46937347  0.49963574\n",
      "  0.49471226]\n",
      "errors =  [ 0.49697057  0.50251183  0.4990965  ..., -0.46937347 -0.49963574\n",
      " -0.49471226]\n",
      "predictions = [ 0.50307003  0.49746065  0.50091977 ...,  0.46901379  0.49964003\n",
      "  0.49465173]\n",
      "errors =  [ 0.49692997  0.50253935  0.49908023 ..., -0.46901379 -0.49964003\n",
      " -0.49465173]\n",
      "predictions = [ 0.50311068  0.49743321  0.50093614 ...,  0.46865452  0.4996445\n",
      "  0.49459129]\n",
      "errors =  [ 0.49688932  0.50256679  0.49906386 ..., -0.46865452 -0.4996445\n",
      " -0.49459129]\n",
      "predictions = [ 0.5031514   0.49740584  0.50095262 ...,  0.46829567  0.49964915\n",
      "  0.49453096]\n",
      "errors =  [ 0.4968486   0.50259416  0.49904738 ..., -0.46829567 -0.49964915\n",
      " -0.49453096]\n",
      "predictions = [ 0.50319217  0.49737854  0.5009692  ...,  0.46793724  0.49965398\n",
      "  0.49447072]\n",
      "errors =  [ 0.49680783  0.50262146  0.4990308  ..., -0.46793724 -0.49965398\n",
      " -0.49447072]\n",
      "predictions = [ 0.50323301  0.49735131  0.50098588 ...,  0.46757922  0.49965899\n",
      "  0.49441058]\n",
      "errors =  [ 0.49676699  0.50264869  0.49901412 ..., -0.46757922 -0.49965899\n",
      " -0.49441058]\n",
      "predictions = [ 0.50327391  0.49732415  0.50100266 ...,  0.46722162  0.49966418\n",
      "  0.49435054]\n",
      "errors =  [ 0.49672609  0.50267585  0.49899734 ..., -0.46722162 -0.49966418\n",
      " -0.49435054]\n",
      "predictions = [ 0.50331486  0.49729706  0.50101954 ...,  0.46686444  0.49966954\n",
      "  0.4942906 ]\n",
      "errors =  [ 0.49668514  0.50270294  0.49898046 ..., -0.46686444 -0.49966954\n",
      " -0.4942906 ]\n",
      "predictions = [ 0.50335588  0.49727004  0.50103651 ...,  0.46650766  0.49967508\n",
      "  0.49423075]\n",
      "errors =  [ 0.49664412  0.50272996  0.49896349 ..., -0.46650766 -0.49967508\n",
      " -0.49423075]\n",
      "predictions = [ 0.50339695  0.4972431   0.50105359 ...,  0.4661513   0.49968079  0.494171  ]\n",
      "errors =  [ 0.49660305  0.5027569   0.49894641 ..., -0.4661513  -0.49968079 -0.494171  ]\n",
      "iteration  90: log likelihood of observed labels = -36283.14615871\n",
      "predictions = [ 0.50343808  0.49721622  0.50107076 ...,  0.46579535  0.49968667\n",
      "  0.49411134]\n",
      "errors =  [ 0.49656192  0.50278378  0.49892924 ..., -0.46579535 -0.49968667\n",
      " -0.49411134]\n",
      "predictions = [ 0.50347926  0.49718941  0.50108803 ...,  0.46543982  0.49969272\n",
      "  0.49405178]\n",
      "errors =  [ 0.49652074  0.50281059  0.49891197 ..., -0.46543982 -0.49969272\n",
      " -0.49405178]\n",
      "predictions = [ 0.50352051  0.49716267  0.50110539 ...,  0.46508469  0.49969895\n",
      "  0.49399232]\n",
      "errors =  [ 0.49647949  0.50283733  0.49889461 ..., -0.46508469 -0.49969895\n",
      " -0.49399232]\n",
      "predictions = [ 0.5035618   0.497136    0.50112285 ...,  0.46472996  0.49970534\n",
      "  0.49393295]\n",
      "errors =  [ 0.4964382   0.502864    0.49887715 ..., -0.46472996 -0.49970534\n",
      " -0.49393295]\n",
      "predictions = [ 0.50360316  0.4971094   0.5011404  ...,  0.46437565  0.49971191\n",
      "  0.49387367]\n",
      "errors =  [ 0.49639684  0.5028906   0.4988596  ..., -0.46437565 -0.49971191\n",
      " -0.49387367]\n",
      "predictions = [ 0.50364457  0.49708286  0.50115805 ...,  0.46402174  0.49971864\n",
      "  0.49381449]\n",
      "errors =  [ 0.49635543  0.50291714  0.49884195 ..., -0.46402174 -0.49971864\n",
      " -0.49381449]\n",
      "predictions = [ 0.50368603  0.49705639  0.50117579 ...,  0.46366824  0.49972554\n",
      "  0.49375539]\n",
      "errors =  [ 0.49631397  0.50294361  0.49882421 ..., -0.46366824 -0.49972554\n",
      " -0.49375539]\n",
      "predictions = [ 0.50372755  0.49702999  0.50119362 ...,  0.46331514  0.4997326   0.4936964 ]\n",
      "errors =  [ 0.49627245  0.50297001  0.49880638 ..., -0.46331514 -0.4997326  -0.4936964 ]\n",
      "predictions = [ 0.50376912  0.49700366  0.50121155 ...,  0.46296245  0.49973983\n",
      "  0.49363749]\n",
      "errors =  [ 0.49623088  0.50299634  0.49878845 ..., -0.46296245 -0.49973983\n",
      " -0.49363749]\n",
      "predictions = [ 0.50381074  0.49697739  0.50122956 ...,  0.46261016  0.49974722\n",
      "  0.49357867]\n",
      "errors =  [ 0.49618926  0.50302261  0.49877044 ..., -0.46261016 -0.49974722\n",
      " -0.49357867]\n",
      "iteration 100: log likelihood of observed labels = -36230.46102347\n",
      "predictions = [ 0.50385242  0.49695119  0.50124767 ...,  0.46225827  0.49975478\n",
      "  0.49351995]\n",
      "errors =  [ 0.49614758  0.50304881  0.49875233 ..., -0.46225827 -0.49975478\n",
      " -0.49351995]\n",
      "predictions = [ 0.50389414  0.49692505  0.50126587 ...,  0.46190678  0.49976249\n",
      "  0.49346132]\n",
      "errors =  [ 0.49610586  0.50307495  0.49873413 ..., -0.46190678 -0.49976249\n",
      " -0.49346132]\n",
      "predictions = [ 0.50393592  0.49689898  0.50128415 ...,  0.4615557   0.49977037\n",
      "  0.49340277]\n",
      "errors =  [ 0.49606408  0.50310102  0.49871585 ..., -0.4615557  -0.49977037\n",
      " -0.49340277]\n",
      "predictions = [ 0.50397775  0.49687297  0.50130252 ...,  0.46120501  0.49977841\n",
      "  0.49334432]\n",
      "errors =  [ 0.49602225  0.50312703  0.49869748 ..., -0.46120501 -0.49977841\n",
      " -0.49334432]\n",
      "predictions = [ 0.50401963  0.49684703  0.50132099 ...,  0.46085472  0.4997866\n",
      "  0.49328595]\n",
      "errors =  [ 0.49598037  0.50315297  0.49867901 ..., -0.46085472 -0.4997866\n",
      " -0.49328595]\n",
      "predictions = [ 0.50406157  0.49682115  0.50133954 ...,  0.46050482  0.49979496\n",
      "  0.49322767]\n",
      "errors =  [ 0.49593843  0.50317885  0.49866046 ..., -0.46050482 -0.49979496\n",
      " -0.49322767]\n",
      "predictions = [ 0.50410355  0.49679534  0.50135817 ...,  0.46015533  0.49980347\n",
      "  0.49316949]\n",
      "errors =  [ 0.49589645  0.50320466  0.49864183 ..., -0.46015533 -0.49980347\n",
      " -0.49316949]\n",
      "predictions = [ 0.50414558  0.49676959  0.5013769  ...,  0.45980622  0.49981214\n",
      "  0.49311138]\n",
      "errors =  [ 0.49585442  0.50323041  0.4986231  ..., -0.45980622 -0.49981214\n",
      " -0.49311138]\n",
      "predictions = [ 0.50418766  0.4967439   0.5013957  ...,  0.45945752  0.49982096\n",
      "  0.49305337]\n",
      "errors =  [ 0.49581234  0.5032561   0.4986043  ..., -0.45945752 -0.49982096\n",
      " -0.49305337]\n",
      "predictions = [ 0.50422978  0.49671828  0.5014146  ...,  0.4591092   0.49982994\n",
      "  0.49299544]\n",
      "errors =  [ 0.49577022  0.50328172  0.4985854  ..., -0.4591092  -0.49982994\n",
      " -0.49299544]\n",
      "predictions = [ 0.50427196  0.49669271  0.50143357 ...,  0.45876128  0.49983907\n",
      "  0.4929376 ]\n",
      "errors =  [ 0.49572804  0.50330729  0.49856643 ..., -0.45876128 -0.49983907\n",
      " -0.4929376 ]\n",
      "predictions = [ 0.50431418  0.49666721  0.50145263 ...,  0.45841376  0.49984835\n",
      "  0.49287985]\n",
      "errors =  [ 0.49568582  0.50333279  0.49854737 ..., -0.45841376 -0.49984835\n",
      " -0.49287985]\n",
      "predictions = [ 0.50435645  0.49664177  0.50147178 ...,  0.45806662  0.49985779\n",
      "  0.49282218]\n",
      "errors =  [ 0.49564355  0.50335823  0.49852822 ..., -0.45806662 -0.49985779\n",
      " -0.49282218]\n",
      "predictions = [ 0.50439877  0.4966164   0.50149101 ...,  0.45771987  0.49986737\n",
      "  0.4927646 ]\n",
      "errors =  [ 0.49560123  0.5033836   0.49850899 ..., -0.45771987 -0.49986737\n",
      " -0.4927646 ]\n",
      "predictions = [ 0.50444113  0.49659108  0.50151031 ...,  0.45737352  0.49987711\n",
      "  0.4927071 ]\n",
      "errors =  [ 0.49555887  0.50340892  0.49848969 ..., -0.45737352 -0.49987711\n",
      " -0.4927071 ]\n",
      "predictions = [ 0.50448354  0.49656582  0.5015297  ...,  0.45702755  0.49988699\n",
      "  0.49264968]\n",
      "errors =  [ 0.49551646  0.50343418  0.4984703  ..., -0.45702755 -0.49988699\n",
      " -0.49264968]\n",
      "predictions = [ 0.504526    0.49654063  0.50154917 ...,  0.45668197  0.49989702\n",
      "  0.49259235]\n",
      "errors =  [ 0.495474    0.50345937  0.49845083 ..., -0.45668197 -0.49989702\n",
      " -0.49259235]\n",
      "predictions = [ 0.5045685   0.49651549  0.50156873 ...,  0.45633677  0.4999072   0.4925351 ]\n",
      "errors =  [ 0.4954315   0.50348451  0.49843127 ..., -0.45633677 -0.4999072  -0.4925351 ]\n",
      "predictions = [ 0.50461104  0.49649042  0.50158836 ...,  0.45599196  0.49991753\n",
      "  0.49247794]\n",
      "errors =  [ 0.49538896  0.50350958  0.49841164 ..., -0.45599196 -0.49991753\n",
      " -0.49247794]\n",
      "predictions = [ 0.50465363  0.4964654   0.50160807 ...,  0.45564754  0.499928    0.49242086]\n",
      "errors =  [ 0.49534637  0.5035346   0.49839193 ..., -0.45564754 -0.499928   -0.49242086]\n",
      "predictions = [ 0.50469626  0.49644044  0.50162785 ...,  0.4553035   0.49993861\n",
      "  0.49236386]\n",
      "errors =  [ 0.49530374  0.50355956  0.49837215 ..., -0.4553035  -0.49993861\n",
      " -0.49236386]\n",
      "predictions = [ 0.50473893  0.49641555  0.50164772 ...,  0.45495985  0.49994937\n",
      "  0.49230694]\n",
      "errors =  [ 0.49526107  0.50358445  0.49835228 ..., -0.45495985 -0.49994937\n",
      " -0.49230694]\n",
      "predictions = [ 0.50478165  0.49639071  0.50166766 ...,  0.45461657  0.49996027\n",
      "  0.4922501 ]\n",
      "errors =  [ 0.49521835  0.50360929  0.49833234 ..., -0.45461657 -0.49996027\n",
      " -0.4922501 ]\n",
      "predictions = [ 0.50482441  0.49636592  0.50168768 ...,  0.45427368  0.49997132\n",
      "  0.49219334]\n",
      "errors =  [ 0.49517559  0.50363408  0.49831232 ..., -0.45427368 -0.49997132\n",
      " -0.49219334]\n",
      "predictions = [ 0.50486721  0.4963412   0.50170778 ...,  0.45393117  0.4999825\n",
      "  0.49213667]\n",
      "errors =  [ 0.49513279  0.5036588   0.49829222 ..., -0.45393117 -0.4999825\n",
      " -0.49213667]\n",
      "predictions = [ 0.50491005  0.49631653  0.50172795 ...,  0.45358904  0.49999383\n",
      "  0.49208007]\n",
      "errors =  [ 0.49508995  0.50368347  0.49827205 ..., -0.45358904 -0.49999383\n",
      " -0.49208007]\n",
      "predictions = [ 0.50495294  0.49629192  0.5017482  ...,  0.45324729  0.50000529\n",
      "  0.49202356]\n",
      "errors =  [ 0.49504706  0.50370808  0.4982518  ..., -0.45324729 -0.50000529\n",
      " -0.49202356]\n",
      "predictions = [ 0.50499586  0.49626737  0.50176852 ...,  0.45290592  0.5000169\n",
      "  0.49196712]\n",
      "errors =  [ 0.49500414  0.50373263  0.49823148 ..., -0.45290592 -0.5000169\n",
      " -0.49196712]\n",
      "predictions = [ 0.50503883  0.49624287  0.50178892 ...,  0.45256492  0.50002864\n",
      "  0.49191076]\n",
      "errors =  [ 0.49496117  0.50375713  0.49821108 ..., -0.45256492 -0.50002864\n",
      " -0.49191076]\n",
      "predictions = [ 0.50508183  0.49621843  0.50180939 ...,  0.45222431  0.50004051\n",
      "  0.49185448]\n",
      "errors =  [ 0.49491817  0.50378157  0.49819061 ..., -0.45222431 -0.50004051\n",
      " -0.49185448]\n",
      "predictions = [ 0.50512488  0.49619405  0.50182993 ...,  0.45188406  0.50005253\n",
      "  0.49179828]\n",
      "errors =  [ 0.49487512  0.50380595  0.49817007 ..., -0.45188406 -0.50005253\n",
      " -0.49179828]\n",
      "predictions = [ 0.50516796  0.49616972  0.50185054 ...,  0.4515442   0.50006468\n",
      "  0.49174216]\n",
      "errors =  [ 0.49483204  0.50383028  0.49814946 ..., -0.4515442  -0.50006468\n",
      " -0.49174216]\n",
      "predictions = [ 0.50521108  0.49614545  0.50187123 ...,  0.45120471  0.50007696\n",
      "  0.49168611]\n",
      "errors =  [ 0.49478892  0.50385455  0.49812877 ..., -0.45120471 -0.50007696\n",
      " -0.49168611]\n",
      "predictions = [ 0.50525424  0.49612123  0.50189199 ...,  0.45086559  0.50008938\n",
      "  0.49163014]\n",
      "errors =  [ 0.49474576  0.50387877  0.49810801 ..., -0.45086559 -0.50008938\n",
      " -0.49163014]\n",
      "predictions = [ 0.50529744  0.49609707  0.50191282 ...,  0.45052684  0.50010193\n",
      "  0.49157425]\n",
      "errors =  [ 0.49470256  0.50390293  0.49808718 ..., -0.45052684 -0.50010193\n",
      " -0.49157425]\n",
      "predictions = [ 0.50534068  0.49607296  0.50193371 ...,  0.45018847  0.50011461\n",
      "  0.49151843]\n",
      "errors =  [ 0.49465932  0.50392704  0.49806629 ..., -0.45018847 -0.50011461\n",
      " -0.49151843]\n",
      "predictions = [ 0.50538395  0.4960489   0.50195468 ...,  0.44985046  0.50012742\n",
      "  0.49146269]\n",
      "errors =  [ 0.49461605  0.5039511   0.49804532 ..., -0.44985046 -0.50012742\n",
      " -0.49146269]\n",
      "predictions = [ 0.50542726  0.4960249   0.50197572 ...,  0.44951283  0.50014036\n",
      "  0.49140702]\n",
      "errors =  [ 0.49457274  0.5039751   0.49802428 ..., -0.44951283 -0.50014036\n",
      " -0.49140702]\n",
      "predictions = [ 0.50547061  0.49600096  0.50199683 ...,  0.44917557  0.50015344\n",
      "  0.49135143]\n",
      "errors =  [ 0.49452939  0.50399904  0.49800317 ..., -0.44917557 -0.50015344\n",
      " -0.49135143]\n",
      "predictions = [ 0.505514    0.49597706  0.502018   ...,  0.44883868  0.50016664\n",
      "  0.49129592]\n",
      "errors =  [ 0.494486    0.50402294  0.497982   ..., -0.44883868 -0.50016664\n",
      " -0.49129592]\n",
      "predictions = [ 0.50555741  0.49595322  0.50203925 ...,  0.44850215  0.50017997\n",
      "  0.49124047]\n",
      "errors =  [ 0.49444259  0.50404678  0.49796075 ..., -0.44850215 -0.50017997\n",
      " -0.49124047]\n",
      "predictions = [ 0.50560087  0.49592943  0.50206056 ...,  0.44816599  0.50019343\n",
      "  0.4911851 ]\n",
      "errors =  [ 0.49439913  0.50407057  0.49793944 ..., -0.44816599 -0.50019343\n",
      " -0.4911851 ]\n",
      "predictions = [ 0.50564436  0.4959057   0.50208193 ...,  0.4478302   0.50020701\n",
      "  0.49112981]\n",
      "errors =  [ 0.49435564  0.5040943   0.49791807 ..., -0.4478302  -0.50020701\n",
      " -0.49112981]\n",
      "predictions = [ 0.50568788  0.49588201  0.50210338 ...,  0.44749478  0.50022072\n",
      "  0.49107459]\n",
      "errors =  [ 0.49431212  0.50411799  0.49789662 ..., -0.44749478 -0.50022072\n",
      " -0.49107459]\n",
      "predictions = [ 0.50573144  0.49585838  0.50212488 ...,  0.44715972  0.50023456\n",
      "  0.49101944]\n",
      "errors =  [ 0.49426856  0.50414162  0.49787512 ..., -0.44715972 -0.50023456\n",
      " -0.49101944]\n",
      "predictions = [ 0.50577503  0.4958348   0.50214646 ...,  0.44682502  0.50024852\n",
      "  0.49096436]\n",
      "errors =  [ 0.49422497  0.5041652   0.49785354 ..., -0.44682502 -0.50024852\n",
      " -0.49096436]\n",
      "predictions = [ 0.50581866  0.49581127  0.5021681  ...,  0.44649069  0.5002626\n",
      "  0.49090936]\n",
      "errors =  [ 0.49418134  0.50418873  0.4978319  ..., -0.44649069 -0.5002626\n",
      " -0.49090936]\n",
      "predictions = [ 0.50586232  0.49578779  0.5021898  ...,  0.44615672  0.50027681\n",
      "  0.49085443]\n",
      "errors =  [ 0.49413768  0.50421221  0.4978102  ..., -0.44615672 -0.50027681\n",
      " -0.49085443]\n",
      "predictions = [ 0.50590601  0.49576437  0.50221157 ...,  0.44582311  0.50029114\n",
      "  0.49079956]\n",
      "errors =  [ 0.49409399  0.50423563  0.49778843 ..., -0.44582311 -0.50029114\n",
      " -0.49079956]\n",
      "predictions = [ 0.50594973  0.49574099  0.5022334  ...,  0.44548987  0.50030558\n",
      "  0.49074477]\n",
      "errors =  [ 0.49405027  0.50425901  0.4977666  ..., -0.44548987 -0.50030558\n",
      " -0.49074477]\n",
      "predictions = [ 0.50599349  0.49571766  0.50225529 ...,  0.44515698  0.50032015\n",
      "  0.49069005]\n",
      "errors =  [ 0.49400651  0.50428234  0.49774471 ..., -0.44515698 -0.50032015\n",
      " -0.49069005]\n",
      "predictions = [ 0.50603728  0.49569438  0.50227724 ...,  0.44482446  0.50033484\n",
      "  0.4906354 ]\n",
      "errors =  [ 0.49396272  0.50430562  0.49772276 ..., -0.44482446 -0.50033484\n",
      " -0.4906354 ]\n",
      "predictions = [ 0.5060811   0.49567116  0.50229926 ...,  0.44449229  0.50034965\n",
      "  0.49058082]\n",
      "errors =  [ 0.4939189   0.50432884  0.49770074 ..., -0.44449229 -0.50034965\n",
      " -0.49058082]\n",
      "predictions = [ 0.50612495  0.49564798  0.50232134 ...,  0.44416048  0.50036458\n",
      "  0.49052631]\n",
      "errors =  [ 0.49387505  0.50435202  0.49767866 ..., -0.44416048 -0.50036458\n",
      " -0.49052631]\n",
      "predictions = [ 0.50616883  0.49562485  0.50234348 ...,  0.44382903  0.50037963\n",
      "  0.49047187]\n",
      "errors =  [ 0.49383117  0.50437515  0.49765652 ..., -0.44382903 -0.50037963\n",
      " -0.49047187]\n",
      "predictions = [ 0.50621274  0.49560177  0.50236568 ...,  0.44349794  0.50039479\n",
      "  0.4904175 ]\n",
      "errors =  [ 0.49378726  0.50439823  0.49763432 ..., -0.44349794 -0.50039479\n",
      " -0.4904175 ]\n",
      "predictions = [ 0.50625668  0.49557874  0.50238794 ...,  0.4431672   0.50041007\n",
      "  0.4903632 ]\n",
      "errors =  [ 0.49374332  0.50442126  0.49761206 ..., -0.4431672  -0.50041007\n",
      " -0.4903632 ]\n",
      "predictions = [ 0.50630065  0.49555576  0.50241026 ...,  0.44283682  0.50042546\n",
      "  0.49030896]\n",
      "errors =  [ 0.49369935  0.50444424  0.49758974 ..., -0.44283682 -0.50042546\n",
      " -0.49030896]\n",
      "predictions = [ 0.50634465  0.49553282  0.50243264 ...,  0.44250679  0.50044097\n",
      "  0.4902548 ]\n",
      "errors =  [ 0.49365535  0.50446718  0.49756736 ..., -0.44250679 -0.50044097\n",
      " -0.4902548 ]\n",
      "predictions = [ 0.50638868  0.49550993  0.50245507 ...,  0.44217712  0.50045659\n",
      "  0.4902007 ]\n",
      "errors =  [ 0.49361132  0.50449007  0.49754493 ..., -0.44217712 -0.50045659\n",
      " -0.4902007 ]\n",
      "predictions = [ 0.50643274  0.49548709  0.50247757 ...,  0.4418478   0.50047233\n",
      "  0.49014666]\n",
      "errors =  [ 0.49356726  0.50451291  0.49752243 ..., -0.4418478  -0.50047233\n",
      " -0.49014666]\n",
      "predictions = [ 0.50647683  0.4954643   0.50250012 ...,  0.44151883  0.50048818\n",
      "  0.4900927 ]\n",
      "errors =  [ 0.49352317  0.5045357   0.49749988 ..., -0.44151883 -0.50048818\n",
      " -0.4900927 ]\n",
      "predictions = [ 0.50652094  0.49544156  0.50252273 ...,  0.44119022  0.50050414\n",
      "  0.4900388 ]\n",
      "errors =  [ 0.49347906  0.50455844  0.49747727 ..., -0.44119022 -0.50050414\n",
      " -0.4900388 ]\n",
      "predictions = [ 0.50656509  0.49541886  0.5025454  ...,  0.44086196  0.50052022\n",
      "  0.48998497]\n",
      "errors =  [ 0.49343491  0.50458114  0.4974546  ..., -0.44086196 -0.50052022\n",
      " -0.48998497]\n",
      "predictions = [ 0.50660926  0.4953962   0.50256812 ...,  0.44053404  0.5005364   0.4899312 ]\n",
      "errors =  [ 0.49339074  0.5046038   0.49743188 ..., -0.44053404 -0.5005364  -0.4899312 ]\n",
      "predictions = [ 0.50665345  0.4953736   0.5025909  ...,  0.44020648  0.5005527   0.4898775 ]\n",
      "errors =  [ 0.49334655  0.5046264   0.4974091  ..., -0.44020648 -0.5005527  -0.4898775 ]\n",
      "predictions = [ 0.50669768  0.49535104  0.50261374 ...,  0.43987927  0.5005691\n",
      "  0.48982386]\n",
      "errors =  [ 0.49330232  0.50464896  0.49738626 ..., -0.43987927 -0.5005691\n",
      " -0.48982386]\n",
      "predictions = [ 0.50674193  0.49532852  0.50263663 ...,  0.4395524   0.50058561\n",
      "  0.48977029]\n",
      "errors =  [ 0.49325807  0.50467148  0.49736337 ..., -0.4395524  -0.50058561\n",
      " -0.48977029]\n",
      "predictions = [ 0.5067862   0.49530606  0.50265957 ...,  0.43922588  0.50060223\n",
      "  0.48971678]\n",
      "errors =  [ 0.4932138   0.50469394  0.49734043 ..., -0.43922588 -0.50060223\n",
      " -0.48971678]\n",
      "predictions = [ 0.50683051  0.49528363  0.50268257 ...,  0.43889971  0.50061896\n",
      "  0.48966334]\n",
      "errors =  [ 0.49316949  0.50471637  0.49731743 ..., -0.43889971 -0.50061896\n",
      " -0.48966334]\n",
      "predictions = [ 0.50687484  0.49526125  0.50270563 ...,  0.43857389  0.5006358\n",
      "  0.48960996]\n",
      "errors =  [ 0.49312516  0.50473875  0.49729437 ..., -0.43857389 -0.5006358\n",
      " -0.48960996]\n",
      "predictions = [ 0.50691919  0.49523892  0.50272873 ...,  0.43824841  0.50065274\n",
      "  0.48955665]\n",
      "errors =  [ 0.49308081  0.50476108  0.49727127 ..., -0.43824841 -0.50065274\n",
      " -0.48955665]\n",
      "predictions = [ 0.50696357  0.49521663  0.50275189 ...,  0.43792328  0.50066978\n",
      "  0.4895034 ]\n",
      "errors =  [ 0.49303643  0.50478337  0.49724811 ..., -0.43792328 -0.50066978\n",
      " -0.4895034 ]\n",
      "predictions = [ 0.50700797  0.49519439  0.5027751  ...,  0.43759849  0.50068693\n",
      "  0.48945021]\n",
      "errors =  [ 0.49299203  0.50480561  0.4972249  ..., -0.43759849 -0.50068693\n",
      " -0.48945021]\n",
      "predictions = [ 0.5070524   0.49517219  0.50279837 ...,  0.43727405  0.50070419\n",
      "  0.48939708]\n",
      "errors =  [ 0.4929476   0.50482781  0.49720163 ..., -0.43727405 -0.50070419\n",
      " -0.48939708]\n",
      "predictions = [ 0.50709685  0.49515003  0.50282168 ...,  0.43694995  0.50072155\n",
      "  0.48934402]\n",
      "errors =  [ 0.49290315  0.50484997  0.49717832 ..., -0.43694995 -0.50072155\n",
      " -0.48934402]\n",
      "predictions = [ 0.50714132  0.49512791  0.50284505 ...,  0.43662619  0.50073901\n",
      "  0.48929102]\n",
      "errors =  [ 0.49285868  0.50487209  0.49715495 ..., -0.43662619 -0.50073901\n",
      " -0.48929102]\n",
      "predictions = [ 0.50718582  0.49510585  0.50286847 ...,  0.43630277  0.50075658\n",
      "  0.48923808]\n",
      "errors =  [ 0.49281418  0.50489415  0.49713153 ..., -0.43630277 -0.50075658\n",
      " -0.48923808]\n",
      "predictions = [ 0.50723034  0.49508382  0.50289194 ...,  0.43597969  0.50077424\n",
      "  0.4891852 ]\n",
      "errors =  [ 0.49276966  0.50491618  0.49710806 ..., -0.43597969 -0.50077424\n",
      " -0.4891852 ]\n",
      "predictions = [ 0.50727488  0.49506183  0.50291546 ...,  0.43565696  0.50079201\n",
      "  0.48913238]\n",
      "errors =  [ 0.49272512  0.50493817  0.49708454 ..., -0.43565696 -0.50079201\n",
      " -0.48913238]\n",
      "predictions = [ 0.50731945  0.49503989  0.50293902 ...,  0.43533456  0.50080988\n",
      "  0.48907963]\n",
      "errors =  [ 0.49268055  0.50496011  0.49706098 ..., -0.43533456 -0.50080988\n",
      " -0.48907963]\n",
      "predictions = [ 0.50736404  0.49501799  0.50296264 ...,  0.43501251  0.50082785\n",
      "  0.48902693]\n",
      "errors =  [ 0.49263596  0.50498201  0.49703736 ..., -0.43501251 -0.50082785\n",
      " -0.48902693]\n",
      "predictions = [ 0.50740865  0.49499614  0.50298631 ...,  0.43469079  0.50084591\n",
      "  0.4889743 ]\n",
      "errors =  [ 0.49259135  0.50500386  0.49701369 ..., -0.43469079 -0.50084591\n",
      " -0.4889743 ]\n",
      "predictions = [ 0.50745328  0.49497432  0.50301002 ...,  0.43436941  0.50086408\n",
      "  0.48892172]\n",
      "errors =  [ 0.49254672  0.50502568  0.49698998 ..., -0.43436941 -0.50086408\n",
      " -0.48892172]\n",
      "predictions = [ 0.50749794  0.49495255  0.50303379 ...,  0.43404837  0.50088234\n",
      "  0.48886921]\n",
      "errors =  [ 0.49250206  0.50504745  0.49696621 ..., -0.43404837 -0.50088234\n",
      " -0.48886921]\n",
      "predictions = [ 0.50754261  0.49493082  0.5030576  ...,  0.43372766  0.5009007\n",
      "  0.48881675]\n",
      "errors =  [ 0.49245739  0.50506918  0.4969424  ..., -0.43372766 -0.5009007\n",
      " -0.48881675]\n",
      "predictions = [ 0.50758731  0.49490913  0.50308146 ...,  0.43340729  0.50091916\n",
      "  0.48876435]\n",
      "errors =  [ 0.49241269  0.50509087  0.49691854 ..., -0.43340729 -0.50091916\n",
      " -0.48876435]\n",
      "predictions = [ 0.50763202  0.49488748  0.50310536 ...,  0.43308726  0.50093771\n",
      "  0.48871202]\n",
      "errors =  [ 0.49236798  0.50511252  0.49689464 ..., -0.43308726 -0.50093771\n",
      " -0.48871202]\n",
      "predictions = [ 0.50767676  0.49486587  0.50312931 ...,  0.43276756  0.50095636\n",
      "  0.48865974]\n",
      "errors =  [ 0.49232324  0.50513413  0.49687069 ..., -0.43276756 -0.50095636\n",
      " -0.48865974]\n",
      "predictions = [ 0.50772151  0.49484431  0.50315331 ...,  0.43244819  0.50097511\n",
      "  0.48860752]\n",
      "errors =  [ 0.49227849  0.50515569  0.49684669 ..., -0.43244819 -0.50097511\n",
      " -0.48860752]\n",
      "predictions = [ 0.50776629  0.49482278  0.50317736 ...,  0.43212916  0.50099395\n",
      "  0.48855535]\n",
      "errors =  [ 0.49223371  0.50517722  0.49682264 ..., -0.43212916 -0.50099395\n",
      " -0.48855535]\n",
      "predictions = [ 0.50781108  0.49480129  0.50320144 ...,  0.43181046  0.50101288\n",
      "  0.48850325]\n",
      "errors =  [ 0.49218892  0.50519871  0.49679856 ..., -0.43181046 -0.50101288\n",
      " -0.48850325]\n",
      "predictions = [ 0.5078559   0.49477985  0.50322558 ...,  0.43149209  0.50103191\n",
      "  0.4884512 ]\n",
      "errors =  [ 0.4921441   0.50522015  0.49677442 ..., -0.43149209 -0.50103191\n",
      " -0.4884512 ]\n",
      "predictions = [ 0.50790073  0.49475844  0.50324976 ...,  0.43117406  0.50105103\n",
      "  0.48839921]\n",
      "errors =  [ 0.49209927  0.50524156  0.49675024 ..., -0.43117406 -0.50105103\n",
      " -0.48839921]\n",
      "predictions = [ 0.50794558  0.49473707  0.50327398 ...,  0.43085635  0.50107024\n",
      "  0.48834728]\n",
      "errors =  [ 0.49205442  0.50526293  0.49672602 ..., -0.43085635 -0.50107024\n",
      " -0.48834728]\n",
      "predictions = [ 0.50799045  0.49471574  0.50329825 ...,  0.43053898  0.50108954\n",
      "  0.4882954 ]\n",
      "errors =  [ 0.49200955  0.50528426  0.49670175 ..., -0.43053898 -0.50108954\n",
      " -0.4882954 ]\n",
      "predictions = [ 0.50803534  0.49469446  0.50332256 ...,  0.43022193  0.50110893\n",
      "  0.48824358]\n",
      "errors =  [ 0.49196466  0.50530554  0.49667744 ..., -0.43022193 -0.50110893\n",
      " -0.48824358]\n",
      "predictions = [ 0.50808025  0.49467321  0.50334691 ...,  0.42990522  0.50112842\n",
      "  0.48819182]\n",
      "errors =  [ 0.49191975  0.50532679  0.49665309 ..., -0.42990522 -0.50112842\n",
      " -0.48819182]\n",
      "predictions = [ 0.50812517  0.49465199  0.50337131 ...,  0.42958883  0.50114799\n",
      "  0.48814011]\n",
      "errors =  [ 0.49187483  0.50534801  0.49662869 ..., -0.42958883 -0.50114799\n",
      " -0.48814011]\n",
      "predictions = [ 0.50817011  0.49463082  0.50339575 ...,  0.42927277  0.50116766\n",
      "  0.48808846]\n",
      "errors =  [ 0.49182989  0.50536918  0.49660425 ..., -0.42927277 -0.50116766\n",
      " -0.48808846]\n",
      "iteration 200: log likelihood of observed labels = -35728.89418769\n",
      "predictions = [ 0.50821507  0.49460969  0.50342023 ...,  0.42895704  0.50118741\n",
      "  0.48803686]\n",
      "errors =  [ 0.49178493  0.50539031  0.49657977 ..., -0.42895704 -0.50118741\n",
      " -0.48803686]\n",
      "predictions = [ 0.50826004  0.49458859  0.50344476 ...,  0.42864164  0.50120725\n",
      "  0.48798532]\n",
      "errors =  [ 0.49173996  0.50541141  0.49655524 ..., -0.42864164 -0.50120725\n",
      " -0.48798532]\n",
      "predictions = [ 0.50830504  0.49456753  0.50346932 ...,  0.42832656  0.50122718\n",
      "  0.48793383]\n",
      "errors =  [ 0.49169496  0.50543247  0.49653068 ..., -0.42832656 -0.50122718\n",
      " -0.48793383]\n",
      "predictions = [ 0.50835004  0.49454651  0.50349393 ...,  0.42801181  0.50124719\n",
      "  0.4878824 ]\n",
      "errors =  [ 0.49164996  0.50545349  0.49650607 ..., -0.42801181 -0.50124719\n",
      " -0.4878824 ]\n",
      "predictions = [ 0.50839507  0.49452553  0.50351857 ...,  0.42769738  0.50126729\n",
      "  0.48783102]\n",
      "errors =  [ 0.49160493  0.50547447  0.49648143 ..., -0.42769738 -0.50126729\n",
      " -0.48783102]\n",
      "predictions = [ 0.50844011  0.49450459  0.50354326 ...,  0.42738328  0.50128748\n",
      "  0.48777969]\n",
      "errors =  [ 0.49155989  0.50549541  0.49645674 ..., -0.42738328 -0.50128748\n",
      " -0.48777969]\n",
      "predictions = [ 0.50848516  0.49448368  0.50356799 ...,  0.4270695   0.50130776\n",
      "  0.48772842]\n",
      "errors =  [ 0.49151484  0.50551632  0.49643201 ..., -0.4270695  -0.50130776\n",
      " -0.48772842]\n",
      "predictions = [ 0.50853023  0.49446281  0.50359276 ...,  0.42675605  0.50132811\n",
      "  0.4876772 ]\n",
      "errors =  [ 0.49146977  0.50553719  0.49640724 ..., -0.42675605 -0.50132811\n",
      " -0.4876772 ]\n",
      "predictions = [ 0.50857531  0.49444197  0.50361756 ...,  0.42644291  0.50134856\n",
      "  0.48762604]\n",
      "errors =  [ 0.49142469  0.50555803  0.49638244 ..., -0.42644291 -0.50134856\n",
      " -0.48762604]\n",
      "predictions = [ 0.50862041  0.49442117  0.50364241 ...,  0.4261301   0.50136908\n",
      "  0.48757493]\n",
      "errors =  [ 0.49137959  0.50557883  0.49635759 ..., -0.4261301  -0.50136908\n",
      " -0.48757493]\n",
      "predictions = [ 0.50866553  0.49440041  0.50366729 ...,  0.42581762  0.5013897\n",
      "  0.48752387]\n",
      "errors =  [ 0.49133447  0.50559959  0.49633271 ..., -0.42581762 -0.5013897\n",
      " -0.48752387]\n",
      "predictions = [ 0.50871066  0.49437969  0.50369221 ...,  0.42550545  0.50141039\n",
      "  0.48747286]\n",
      "errors =  [ 0.49128934  0.50562031  0.49630779 ..., -0.42550545 -0.50141039\n",
      " -0.48747286]\n",
      "predictions = [ 0.5087558   0.494359    0.50371717 ...,  0.4251936   0.50143116\n",
      "  0.48742191]\n",
      "errors =  [ 0.4912442   0.505641    0.49628283 ..., -0.4251936  -0.50143116\n",
      " -0.48742191]\n",
      "predictions = [ 0.50880095  0.49433834  0.50374217 ...,  0.42488207  0.50145202  0.487371  ]\n",
      "errors =  [ 0.49119905  0.50566166  0.49625783 ..., -0.42488207 -0.50145202 -0.487371  ]\n",
      "predictions = [ 0.50884612  0.49431773  0.50376721 ...,  0.42457087  0.50147296\n",
      "  0.48732015]\n",
      "errors =  [ 0.49115388  0.50568227  0.49623279 ..., -0.42457087 -0.50147296\n",
      " -0.48732015]\n",
      "predictions = [ 0.50889131  0.49429714  0.50379228 ...,  0.42425998  0.50149398\n",
      "  0.48726935]\n",
      "errors =  [ 0.49110869  0.50570286  0.49620772 ..., -0.42425998 -0.50149398\n",
      " -0.48726935]\n",
      "predictions = [ 0.5089365   0.4942766   0.50381739 ...,  0.42394941  0.50151508\n",
      "  0.48721861]\n",
      "errors =  [ 0.4910635   0.5057234   0.49618261 ..., -0.42394941 -0.50151508\n",
      " -0.48721861]\n",
      "predictions = [ 0.50898171  0.49425608  0.50384254 ...,  0.42363915  0.50153626\n",
      "  0.48716791]\n",
      "errors =  [ 0.49101829  0.50574392  0.49615746 ..., -0.42363915 -0.50153626\n",
      " -0.48716791]\n",
      "predictions = [ 0.50902693  0.49423561  0.50386772 ...,  0.42332922  0.50155752\n",
      "  0.48711726]\n",
      "errors =  [ 0.49097307  0.50576439  0.49613228 ..., -0.42332922 -0.50155752\n",
      " -0.48711726]\n",
      "predictions = [ 0.50907217  0.49421516  0.50389294 ...,  0.4230196   0.50157886\n",
      "  0.48706667]\n",
      "errors =  [ 0.49092783  0.50578484  0.49610706 ..., -0.4230196  -0.50157886\n",
      " -0.48706667]\n",
      "predictions = [ 0.50911741  0.49419475  0.50391819 ...,  0.42271029  0.50160028\n",
      "  0.48701612]\n",
      "errors =  [ 0.49088259  0.50580525  0.49608181 ..., -0.42271029 -0.50160028\n",
      " -0.48701612]\n",
      "predictions = [ 0.50916267  0.49417438  0.50394348 ...,  0.4224013   0.50162177\n",
      "  0.48696563]\n",
      "errors =  [ 0.49083733  0.50582562  0.49605652 ..., -0.4224013  -0.50162177\n",
      " -0.48696563]\n",
      "predictions = [ 0.50920794  0.49415404  0.5039688  ...,  0.42209263  0.50164334\n",
      "  0.48691518]\n",
      "errors =  [ 0.49079206  0.50584596  0.4960312  ..., -0.42209263 -0.50164334\n",
      " -0.48691518]\n",
      "predictions = [ 0.50925322  0.49413373  0.50399416 ...,  0.42178427  0.50166499\n",
      "  0.48686479]\n",
      "errors =  [ 0.49074678  0.50586627  0.49600584 ..., -0.42178427 -0.50166499\n",
      " -0.48686479]\n",
      "predictions = [ 0.50929852  0.49411346  0.50401955 ...,  0.42147623  0.50168672\n",
      "  0.48681444]\n",
      "errors =  [ 0.49070148  0.50588654  0.49598045 ..., -0.42147623 -0.50168672\n",
      " -0.48681444]\n",
      "predictions = [ 0.50934382  0.49409322  0.50404498 ...,  0.42116849  0.50170852\n",
      "  0.48676414]\n",
      "errors =  [ 0.49065618  0.50590678  0.49595502 ..., -0.42116849 -0.50170852\n",
      " -0.48676414]\n",
      "predictions = [ 0.50938913  0.49407302  0.50407044 ...,  0.42086107  0.5017304\n",
      "  0.48671389]\n",
      "errors =  [ 0.49061087  0.50592698  0.49592956 ..., -0.42086107 -0.5017304\n",
      " -0.48671389]\n",
      "predictions = [ 0.50943446  0.49405285  0.50409593 ...,  0.42055397  0.50175235\n",
      "  0.48666369]\n",
      "errors =  [ 0.49056554  0.50594715  0.49590407 ..., -0.42055397 -0.50175235\n",
      " -0.48666369]\n",
      "predictions = [ 0.50947979  0.49403271  0.50412146 ...,  0.42024717  0.50177437\n",
      "  0.48661354]\n",
      "errors =  [ 0.49052021  0.50596729  0.49587854 ..., -0.42024717 -0.50177437\n",
      " -0.48661354]\n",
      "predictions = [ 0.50952514  0.4940126   0.50414702 ...,  0.41994069  0.50179647\n",
      "  0.48656344]\n",
      "errors =  [ 0.49047486  0.5059874   0.49585298 ..., -0.41994069 -0.50179647\n",
      " -0.48656344]\n",
      "predictions = [ 0.5095705   0.49399253  0.50417261 ...,  0.41963452  0.50181865\n",
      "  0.48651338]\n",
      "errors =  [ 0.4904295   0.50600747  0.49582739 ..., -0.41963452 -0.50181865\n",
      " -0.48651338]\n",
      "predictions = [ 0.50961586  0.49397249  0.50419823 ...,  0.41932865  0.5018409\n",
      "  0.48646338]\n",
      "errors =  [ 0.49038414  0.50602751  0.49580177 ..., -0.41932865 -0.5018409\n",
      " -0.48646338]\n",
      "predictions = [ 0.50966123  0.49395248  0.50422389 ...,  0.4190231   0.50186322\n",
      "  0.48641342]\n",
      "errors =  [ 0.49033877  0.50604752  0.49577611 ..., -0.4190231  -0.50186322\n",
      " -0.48641342]\n",
      "predictions = [ 0.50970662  0.4939325   0.50424958 ...,  0.41871785  0.50188561\n",
      "  0.4863635 ]\n",
      "errors =  [ 0.49029338  0.5060675   0.49575042 ..., -0.41871785 -0.50188561\n",
      " -0.4863635 ]\n",
      "predictions = [ 0.50975201  0.49391256  0.50427529 ...,  0.41841292  0.50190807\n",
      "  0.48631364]\n",
      "errors =  [ 0.49024799  0.50608744  0.49572471 ..., -0.41841292 -0.50190807\n",
      " -0.48631364]\n",
      "predictions = [ 0.50979741  0.49389264  0.50430104 ...,  0.41810829  0.50193061\n",
      "  0.48626382]\n",
      "errors =  [ 0.49020259  0.50610736  0.49569896 ..., -0.41810829 -0.50193061\n",
      " -0.48626382]\n",
      "predictions = [ 0.50984283  0.49387276  0.50432682 ...,  0.41780397  0.50195321\n",
      "  0.48621405]\n",
      "errors =  [ 0.49015717  0.50612724  0.49567318 ..., -0.41780397 -0.50195321\n",
      " -0.48621405]\n",
      "predictions = [ 0.50988824  0.49385291  0.50435263 ...,  0.41749995  0.50197589\n",
      "  0.48616432]\n",
      "errors =  [ 0.49011176  0.50614709  0.49564737 ..., -0.41749995 -0.50197589\n",
      " -0.48616432]\n",
      "predictions = [ 0.50993367  0.4938331   0.50437847 ...,  0.41719625  0.50199863\n",
      "  0.48611464]\n",
      "errors =  [ 0.49006633  0.5061669   0.49562153 ..., -0.41719625 -0.50199863\n",
      " -0.48611464]\n",
      "predictions = [ 0.50997911  0.49381331  0.50440434 ...,  0.41689285  0.50202145\n",
      "  0.48606501]\n",
      "errors =  [ 0.49002089  0.50618669  0.49559566 ..., -0.41689285 -0.50202145\n",
      " -0.48606501]\n",
      "predictions = [ 0.51002455  0.49379355  0.50443024 ...,  0.41658975  0.50204433\n",
      "  0.48601542]\n",
      "errors =  [ 0.48997545  0.50620645  0.49556976 ..., -0.41658975 -0.50204433\n",
      " -0.48601542]\n",
      "predictions = [ 0.51007     0.49377383  0.50445617 ...,  0.41628696  0.50206729\n",
      "  0.48596588]\n",
      "errors =  [ 0.48993     0.50622617  0.49554383 ..., -0.41628696 -0.50206729\n",
      " -0.48596588]\n",
      "predictions = [ 0.51011546  0.49375413  0.50448213 ...,  0.41598447  0.50209031\n",
      "  0.48591638]\n",
      "errors =  [ 0.48988454  0.50624587  0.49551787 ..., -0.41598447 -0.50209031\n",
      " -0.48591638]\n",
      "predictions = [ 0.51016093  0.49373447  0.50450812 ...,  0.41568229  0.5021134\n",
      "  0.48586693]\n",
      "errors =  [ 0.48983907  0.50626553  0.49549188 ..., -0.41568229 -0.5021134\n",
      " -0.48586693]\n",
      "predictions = [ 0.5102064   0.49371484  0.50453413 ...,  0.41538041  0.50213656\n",
      "  0.48581753]\n",
      "errors =  [ 0.4897936   0.50628516  0.49546587 ..., -0.41538041 -0.50213656\n",
      " -0.48581753]\n",
      "predictions = [ 0.51025188  0.49369523  0.50456018 ...,  0.41507884  0.50215978\n",
      "  0.48576816]\n",
      "errors =  [ 0.48974812  0.50630477  0.49543982 ..., -0.41507884 -0.50215978\n",
      " -0.48576816]\n",
      "predictions = [ 0.51029737  0.49367566  0.50458625 ...,  0.41477756  0.50218307\n",
      "  0.48571885]\n",
      "errors =  [ 0.48970263  0.50632434  0.49541375 ..., -0.41477756 -0.50218307\n",
      " -0.48571885]\n",
      "predictions = [ 0.51034286  0.49365612  0.50461235 ...,  0.41447659  0.50220643\n",
      "  0.48566957]\n",
      "errors =  [ 0.48965714  0.50634388  0.49538765 ..., -0.41447659 -0.50220643\n",
      " -0.48566957]\n",
      "predictions = [ 0.51038836  0.4936366   0.50463847 ...,  0.41417592  0.50222985\n",
      "  0.48562034]\n",
      "errors =  [ 0.48961164  0.5063634   0.49536153 ..., -0.41417592 -0.50222985\n",
      " -0.48562034]\n",
      "predictions = [ 0.51043386  0.49361712  0.50466463 ...,  0.41387555  0.50225333\n",
      "  0.48557116]\n",
      "errors =  [ 0.48956614  0.50638288  0.49533537 ..., -0.41387555 -0.50225333\n",
      " -0.48557116]\n",
      "predictions = [ 0.51047938  0.49359767  0.50469081 ...,  0.41357548  0.50227689\n",
      "  0.48552202]\n",
      "errors =  [ 0.48952062  0.50640233  0.49530919 ..., -0.41357548 -0.50227689\n",
      " -0.48552202]\n",
      "predictions = [ 0.51052489  0.49357824  0.50471701 ...,  0.41327572  0.5023005\n",
      "  0.48547292]\n",
      "errors =  [ 0.48947511  0.50642176  0.49528299 ..., -0.41327572 -0.5023005\n",
      " -0.48547292]\n",
      "predictions = [ 0.51057042  0.49355885  0.50474325 ...,  0.41297625  0.50232418\n",
      "  0.48542387]\n",
      "errors =  [ 0.48942958  0.50644115  0.49525675 ..., -0.41297625 -0.50232418\n",
      " -0.48542387]\n",
      "predictions = [ 0.51061594  0.49353948  0.5047695  ...,  0.41267708  0.50234793\n",
      "  0.48537486]\n",
      "errors =  [ 0.48938406  0.50646052  0.4952305  ..., -0.41267708 -0.50234793\n",
      " -0.48537486]\n",
      "predictions = [ 0.51066148  0.49352014  0.50479579 ...,  0.41237821  0.50237173\n",
      "  0.48532589]\n",
      "errors =  [ 0.48933852  0.50647986  0.49520421 ..., -0.41237821 -0.50237173\n",
      " -0.48532589]\n",
      "predictions = [ 0.51070702  0.49350083  0.5048221  ...,  0.41207963  0.5023956\n",
      "  0.48527696]\n",
      "errors =  [ 0.48929298  0.50649917  0.4951779  ..., -0.41207963 -0.5023956\n",
      " -0.48527696]\n",
      "predictions = [ 0.51075256  0.49348155  0.50484844 ...,  0.41178136  0.50241953\n",
      "  0.48522808]\n",
      "errors =  [ 0.48924744  0.50651845  0.49515156 ..., -0.41178136 -0.50241953\n",
      " -0.48522808]\n",
      "predictions = [ 0.51079811  0.4934623   0.5048748  ...,  0.41148338  0.50244353\n",
      "  0.48517924]\n",
      "errors =  [ 0.48920189  0.5065377   0.4951252  ..., -0.41148338 -0.50244353\n",
      " -0.48517924]\n",
      "predictions = [ 0.51084366  0.49344307  0.50490118 ...,  0.4111857   0.50246758\n",
      "  0.48513044]\n",
      "errors =  [ 0.48915634  0.50655693  0.49509882 ..., -0.4111857  -0.50246758\n",
      " -0.48513044]\n",
      "predictions = [ 0.51088921  0.49342388  0.50492759 ...,  0.41088831  0.5024917\n",
      "  0.48508169]\n",
      "errors =  [ 0.48911079  0.50657612  0.49507241 ..., -0.41088831 -0.5024917\n",
      " -0.48508169]\n",
      "predictions = [ 0.51093478  0.49340471  0.50495403 ...,  0.41059122  0.50251588\n",
      "  0.48503297]\n",
      "errors =  [ 0.48906522  0.50659529  0.49504597 ..., -0.41059122 -0.50251588\n",
      " -0.48503297]\n",
      "predictions = [ 0.51098034  0.49338557  0.50498049 ...,  0.41029443  0.50254011\n",
      "  0.4849843 ]\n",
      "errors =  [ 0.48901966  0.50661443  0.49501951 ..., -0.41029443 -0.50254011\n",
      " -0.4849843 ]\n",
      "predictions = [ 0.51102591  0.49336646  0.50500697 ...,  0.40999793  0.50256441\n",
      "  0.48493567]\n",
      "errors =  [ 0.48897409  0.50663354  0.49499303 ..., -0.40999793 -0.50256441\n",
      " -0.48493567]\n",
      "predictions = [ 0.51107148  0.49334737  0.50503347 ...,  0.40970172  0.50258877\n",
      "  0.48488708]\n",
      "errors =  [ 0.48892852  0.50665263  0.49496653 ..., -0.40970172 -0.50258877\n",
      " -0.48488708]\n",
      "predictions = [ 0.51111706  0.49332832  0.50506    ...,  0.40940581  0.50261319\n",
      "  0.48483853]\n",
      "errors =  [ 0.48888294  0.50667168  0.49494    ..., -0.40940581 -0.50261319\n",
      " -0.48483853]\n",
      "predictions = [ 0.51116263  0.49330928  0.50508656 ...,  0.40911019  0.50263766\n",
      "  0.48479002]\n",
      "errors =  [ 0.48883737  0.50669072  0.49491344 ..., -0.40911019 -0.50263766\n",
      " -0.48479002]\n",
      "predictions = [ 0.51120822  0.49329028  0.50511313 ...,  0.40881487  0.50266219\n",
      "  0.48474155]\n",
      "errors =  [ 0.48879178  0.50670972  0.49488687 ..., -0.40881487 -0.50266219\n",
      " -0.48474155]\n",
      "predictions = [ 0.5112538   0.49327131  0.50513973 ...,  0.40851984  0.50268679\n",
      "  0.48469312]\n",
      "errors =  [ 0.4887462   0.50672869  0.49486027 ..., -0.40851984 -0.50268679\n",
      " -0.48469312]\n",
      "predictions = [ 0.51129939  0.49325236  0.50516635 ...,  0.4082251   0.50271144\n",
      "  0.48464474]\n",
      "errors =  [ 0.48870061  0.50674764  0.49483365 ..., -0.4082251  -0.50271144\n",
      " -0.48464474]\n",
      "predictions = [ 0.51134498  0.49323343  0.50519299 ...,  0.40793065  0.50273614\n",
      "  0.48459639]\n",
      "errors =  [ 0.48865502  0.50676657  0.49480701 ..., -0.40793065 -0.50273614\n",
      " -0.48459639]\n",
      "predictions = [ 0.51139057  0.49321454  0.50521966 ...,  0.40763649  0.50276091\n",
      "  0.48454808]\n",
      "errors =  [ 0.48860943  0.50678546  0.49478034 ..., -0.40763649 -0.50276091\n",
      " -0.48454808]\n",
      "predictions = [ 0.51143616  0.49319567  0.50524634 ...,  0.40734262  0.50278573\n",
      "  0.48449982]\n",
      "errors =  [ 0.48856384  0.50680433  0.49475366 ..., -0.40734262 -0.50278573\n",
      " -0.48449982]\n",
      "predictions = [ 0.51148176  0.49317682  0.50527305 ...,  0.40704905  0.5028106\n",
      "  0.48445159]\n",
      "errors =  [ 0.48851824  0.50682318  0.49472695 ..., -0.40704905 -0.5028106\n",
      " -0.48445159]\n",
      "predictions = [ 0.51152736  0.49315801  0.50529978 ...,  0.40675576  0.50283554\n",
      "  0.4844034 ]\n",
      "errors =  [ 0.48847264  0.50684199  0.49470022 ..., -0.40675576 -0.50283554\n",
      " -0.4844034 ]\n",
      "predictions = [ 0.51157296  0.49313921  0.50532653 ...,  0.40646276  0.50286052\n",
      "  0.48435525]\n",
      "errors =  [ 0.48842704  0.50686079  0.49467347 ..., -0.40646276 -0.50286052\n",
      " -0.48435525]\n",
      "predictions = [ 0.51161856  0.49312045  0.5053533  ...,  0.40617005  0.50288557\n",
      "  0.48430714]\n",
      "errors =  [ 0.48838144  0.50687955  0.4946467  ..., -0.40617005 -0.50288557\n",
      " -0.48430714]\n",
      "predictions = [ 0.51166416  0.49310171  0.50538009 ...,  0.40587763  0.50291066\n",
      "  0.48425907]\n",
      "errors =  [ 0.48833584  0.50689829  0.49461991 ..., -0.40587763 -0.50291066\n",
      " -0.48425907]\n",
      "predictions = [ 0.51170977  0.493083    0.5054069  ...,  0.4055855   0.50293582\n",
      "  0.48421104]\n",
      "errors =  [ 0.48829023  0.506917    0.4945931  ..., -0.4055855  -0.50293582\n",
      " -0.48421104]\n",
      "predictions = [ 0.51175537  0.49306431  0.50543373 ...,  0.40529366  0.50296102\n",
      "  0.48416305]\n",
      "errors =  [ 0.48824463  0.50693569  0.49456627 ..., -0.40529366 -0.50296102\n",
      " -0.48416305]\n",
      "predictions = [ 0.51180098  0.49304564  0.50546058 ...,  0.4050021   0.50298628\n",
      "  0.48411509]\n",
      "errors =  [ 0.48819902  0.50695436  0.49453942 ..., -0.4050021  -0.50298628\n",
      " -0.48411509]\n",
      "predictions = [ 0.51184659  0.49302701  0.50548745 ...,  0.40471083  0.50301159\n",
      "  0.48406718]\n",
      "errors =  [ 0.48815341  0.50697299  0.49451255 ..., -0.40471083 -0.50301159\n",
      " -0.48406718]\n",
      "predictions = [ 0.51189219  0.49300839  0.50551434 ...,  0.40441985  0.50303696\n",
      "  0.4840193 ]\n",
      "errors =  [ 0.48810781  0.50699161  0.49448566 ..., -0.40441985 -0.50303696\n",
      " -0.4840193 ]\n",
      "predictions = [ 0.5119378   0.4929898   0.50554125 ...,  0.40412915  0.50306238\n",
      "  0.48397146]\n",
      "errors =  [ 0.4880622   0.5070102   0.49445875 ..., -0.40412915 -0.50306238\n",
      " -0.48397146]\n",
      "predictions = [ 0.51198341  0.49297124  0.50556818 ...,  0.40383873  0.50308785\n",
      "  0.48392365]\n",
      "errors =  [ 0.48801659  0.50702876  0.49443182 ..., -0.40383873 -0.50308785\n",
      " -0.48392365]\n",
      "predictions = [ 0.51202902  0.4929527   0.50559513 ...,  0.40354861  0.50311337\n",
      "  0.48387589]\n",
      "errors =  [ 0.48797098  0.5070473   0.49440487 ..., -0.40354861 -0.50311337\n",
      " -0.48387589]\n",
      "predictions = [ 0.51207463  0.49293419  0.50562209 ...,  0.40325876  0.50313895\n",
      "  0.48382816]\n",
      "errors =  [ 0.48792537  0.50706581  0.49437791 ..., -0.40325876 -0.50313895\n",
      " -0.48382816]\n",
      "predictions = [ 0.51212024  0.4929157   0.50564908 ...,  0.4029692   0.50316457\n",
      "  0.48378047]\n",
      "errors =  [ 0.48787976  0.5070843   0.49435092 ..., -0.4029692  -0.50316457\n",
      " -0.48378047]\n",
      "predictions = [ 0.51216584  0.49289723  0.50567608 ...,  0.40267993  0.50319025\n",
      "  0.48373282]\n",
      "errors =  [ 0.48783416  0.50710277  0.49432392 ..., -0.40267993 -0.50319025\n",
      " -0.48373282]\n",
      "predictions = [ 0.51221145  0.49287879  0.5057031  ...,  0.40239094  0.50321598\n",
      "  0.4836852 ]\n",
      "errors =  [ 0.48778855  0.50712121  0.4942969  ..., -0.40239094 -0.50321598\n",
      " -0.4836852 ]\n",
      "predictions = [ 0.51225706  0.49286038  0.50573014 ...,  0.40210223  0.50324176\n",
      "  0.48363762]\n",
      "errors =  [ 0.48774294  0.50713962  0.49426986 ..., -0.40210223 -0.50324176\n",
      " -0.48363762]\n",
      "predictions = [ 0.51230267  0.49284198  0.50575719 ...,  0.4018138   0.50326758\n",
      "  0.48359007]\n",
      "errors =  [ 0.48769733  0.50715802  0.49424281 ..., -0.4018138  -0.50326758\n",
      " -0.48359007]\n",
      "predictions = [ 0.51234827  0.49282361  0.50578427 ...,  0.40152566  0.50329346\n",
      "  0.48354257]\n",
      "errors =  [ 0.48765173  0.50717639  0.49421573 ..., -0.40152566 -0.50329346\n",
      " -0.48354257]\n",
      "predictions = [ 0.51239388  0.49280527  0.50581136 ...,  0.4012378   0.50331939\n",
      "  0.4834951 ]\n",
      "errors =  [ 0.48760612  0.50719473  0.49418864 ..., -0.4012378  -0.50331939\n",
      " -0.4834951 ]\n",
      "predictions = [ 0.51243948  0.49278695  0.50583846 ...,  0.40095021  0.50334536\n",
      "  0.48344766]\n",
      "errors =  [ 0.48756052  0.50721305  0.49416154 ..., -0.40095021 -0.50334536\n",
      " -0.48344766]\n",
      "predictions = [ 0.51248508  0.49276865  0.50586559 ...,  0.40066291  0.50337139\n",
      "  0.48340026]\n",
      "errors =  [ 0.48751492  0.50723135  0.49413441 ..., -0.40066291 -0.50337139\n",
      " -0.48340026]\n",
      "predictions = [ 0.51253068  0.49275037  0.50589273 ...,  0.40037589  0.50339746\n",
      "  0.4833529 ]\n",
      "errors =  [ 0.48746932  0.50724963  0.49410727 ..., -0.40037589 -0.50339746\n",
      " -0.4833529 ]\n",
      "predictions = [ 0.51257628  0.49273212  0.50591988 ...,  0.40008915  0.50342358\n",
      "  0.48330557]\n",
      "errors =  [ 0.48742372  0.50726788  0.49408012 ..., -0.40008915 -0.50342358\n",
      " -0.48330557]\n",
      "predictions = [ 0.51262188  0.49271389  0.50594706 ...,  0.39980269  0.50344975\n",
      "  0.48325828]\n",
      "errors =  [ 0.48737812  0.50728611  0.49405294 ..., -0.39980269 -0.50344975\n",
      " -0.48325828]\n",
      "predictions = [ 0.51266747  0.49269569  0.50597424 ...,  0.39951651  0.50347596\n",
      "  0.48321102]\n",
      "errors =  [ 0.48733253  0.50730431  0.49402576 ..., -0.39951651 -0.50347596\n",
      " -0.48321102]\n",
      "predictions = [ 0.51271307  0.49267751  0.50600145 ...,  0.39923061  0.50350222\n",
      "  0.4831638 ]\n",
      "errors =  [ 0.48728693  0.50732249  0.49399855 ..., -0.39923061 -0.50350222\n",
      " -0.4831638 ]\n",
      "iteration 300: log likelihood of observed labels = -35268.51212683\n"
     ]
    },
    {
     "data": {
      "text/plain": [
       "array([  5.16220157e-03,   1.55656966e-02,  -8.50204675e-03,\n",
       "         6.65460842e-02,   6.58907629e-02,   5.01743882e-03,\n",
       "        -5.38601484e-02,  -3.50488413e-03,   6.47945868e-02,\n",
       "         4.54356263e-02,   3.98353364e-03,   2.00775410e-02,\n",
       "         3.01350011e-02,  -2.87115530e-02,   1.52161964e-02,\n",
       "         2.72592062e-04,   1.19448177e-02,  -1.82461935e-02,\n",
       "        -1.21706420e-02,  -4.15110334e-02,   2.76820391e-03,\n",
       "         1.77031999e-02,  -4.39700067e-03,   4.49764014e-02,\n",
       "         9.90916464e-03,   8.99239081e-04,  -1.36219516e-03,\n",
       "         1.26859357e-02,   8.26466695e-03,  -2.77426972e-02,\n",
       "         6.10128809e-04,   1.54084501e-02,  -1.32134753e-02,\n",
       "        -3.00512492e-02,   2.97399371e-02,   1.84087080e-02,\n",
       "         2.86178752e-03,  -1.05768015e-02,  -6.57350362e-04,\n",
       "        -1.01476555e-02,  -4.79579528e-03,   7.50891810e-03,\n",
       "         4.27938289e-03,   3.06785501e-03,  -2.20317661e-03,\n",
       "         9.57273354e-03,   9.91666827e-05,  -1.98462567e-02,\n",
       "         1.75702722e-02,   1.55478612e-03,  -1.77375440e-02,\n",
       "         9.78324102e-03,   1.17031606e-02,  -7.35345937e-03,\n",
       "        -6.08714030e-03,   6.43766808e-03,   1.07159665e-02,\n",
       "        -3.05345476e-03,   7.17190727e-03,   5.73320003e-03,\n",
       "         4.60661876e-03,  -5.20588421e-03,   6.71012331e-03,\n",
       "         9.03281814e-03,   1.74563147e-03,   6.00279979e-03,\n",
       "         1.20181744e-02,  -1.83594607e-02,  -6.91010811e-03,\n",
       "        -1.38687273e-02,  -1.50406590e-02,   5.92353611e-03,\n",
       "         5.67478991e-03,  -5.28786220e-03,   3.08147864e-03,\n",
       "         5.53751236e-03,   1.49917916e-02,  -3.35666000e-04,\n",
       "        -3.30695153e-02,  -4.78990943e-03,  -6.41368859e-03,\n",
       "         7.99938935e-03,  -8.61390444e-04,   1.68052959e-02,\n",
       "         1.32539901e-02,   1.72307051e-03,   2.98030675e-03,\n",
       "         8.58284300e-03,   1.17082481e-02,   2.80825907e-03,\n",
       "         2.18724016e-03,   1.68824711e-02,  -4.65973741e-03,\n",
       "         1.51368285e-03,  -1.09509122e-02,   9.17842898e-03,\n",
       "        -1.88572281e-04,  -3.89820373e-02,  -2.44821005e-02,\n",
       "        -1.87023714e-02,  -2.13943485e-02,  -1.29690465e-02,\n",
       "        -1.71378670e-02,  -1.37566767e-02,  -1.49770449e-02,\n",
       "        -5.10287978e-03,  -2.89789761e-02,  -1.48663194e-02,\n",
       "        -1.28088380e-02,  -1.07709355e-02,  -6.95286915e-03,\n",
       "        -5.04082164e-03,  -9.25914404e-03,  -2.40427481e-02,\n",
       "        -2.65927785e-02,  -1.97320937e-03,  -5.04127508e-03,\n",
       "        -7.00791912e-03,  -3.48088523e-03,  -6.40958916e-03,\n",
       "        -4.07497010e-03,  -6.30054296e-03,  -1.09187932e-02,\n",
       "        -1.26051900e-02,  -1.66895314e-03,  -7.76418781e-03,\n",
       "        -5.15960485e-04,  -1.94199551e-03,  -1.24761586e-03,\n",
       "        -5.01291731e-03,  -9.12049191e-03,  -7.22098801e-03,\n",
       "        -8.31782981e-03,  -5.60573348e-03,  -1.47098335e-02,\n",
       "        -9.31520819e-03,  -2.22034402e-03,  -7.07573098e-03,\n",
       "        -5.10115608e-03,  -8.93572862e-03,  -1.27545713e-02,\n",
       "        -7.04171991e-03,  -9.76219676e-04,   4.12091713e-04,\n",
       "         8.29251160e-04,   2.64661064e-03,  -7.73228782e-03,\n",
       "         1.53471164e-03,  -7.37263060e-03,  -3.73694386e-03,\n",
       "        -3.81416409e-03,  -1.64575145e-03,  -3.31887732e-03,\n",
       "         1.22257832e-03,   1.36699286e-05,  -3.01866601e-03,\n",
       "        -1.02826343e-02,  -1.06691327e-02,   2.23639046e-03,\n",
       "        -9.87424798e-03,  -1.02192048e-02,  -3.41330929e-03,\n",
       "         3.34489960e-03,  -3.50984516e-03,  -6.26283150e-03,\n",
       "        -7.22419943e-03,  -5.47016154e-03,  -1.25063947e-02,\n",
       "        -2.47805699e-03,  -1.60017985e-02,  -6.40098934e-03,\n",
       "        -4.26644386e-03,  -1.55376990e-02,   2.31349237e-03,\n",
       "        -9.06653337e-03,  -6.30012672e-03,  -1.21010303e-02,\n",
       "        -3.02578875e-03,  -6.76289718e-03,  -5.65498722e-03,\n",
       "        -6.87050239e-03,  -1.18950595e-02,  -1.86489236e-04,\n",
       "        -1.15230476e-02,   2.81533219e-03,  -8.10150295e-03,\n",
       "        -1.00062131e-02,   4.02037651e-03,  -5.44300346e-03,\n",
       "         2.85818985e-03,   1.19885003e-04,  -6.47587687e-03,\n",
       "        -1.14493516e-03,  -7.09205934e-03])"
      ]
     },
     "execution_count": 106,
     "metadata": {},
     "output_type": "execute_result"
    }
   ],
   "source": [
    "coefficients = logistic_regression(feature_matrix, sentiment, initial_coefficients=np.zeros(194),\n",
    "                                   step_size=1e-7, max_iter=301)\n",
    "coefficients"
   ]
  },
  {
   "cell_type": "markdown",
   "metadata": {},
   "source": [
    "**Quiz Question:** As each iteration of gradient ascent passes, does the log likelihood increase or decrease?"
   ]
  },
  {
   "cell_type": "markdown",
   "metadata": {},
   "source": [
    "## Predicting sentiments"
   ]
  },
  {
   "cell_type": "markdown",
   "metadata": {},
   "source": [
    "Recall from lecture that class predictions for a data point $\\mathbf{x}$ can be computed from the coefficients $\\mathbf{w}$ using the following formula:\n",
    "$$\n",
    "\\hat{y}_i = \n",
    "\\left\\{\n",
    "\\begin{array}{ll}\n",
    "      +1 & \\mathbf{x}_i^T\\mathbf{w} > 0 \\\\\n",
    "      -1 & \\mathbf{x}_i^T\\mathbf{w} \\leq 0 \\\\\n",
    "\\end{array} \n",
    "\\right.\n",
    "$$\n",
    "\n",
    "Now, we will write some code to compute class predictions. We will do this in two steps:\n",
    "* **Step 1**: First compute the **scores** using **feature_matrix** and **coefficients** using a dot product.\n",
    "* **Step 2**: Using the formula above, compute the class predictions from the scores.\n",
    "\n",
    "Step 1 can be implemented as follows:"
   ]
  },
  {
   "cell_type": "code",
   "execution_count": 107,
   "metadata": {
    "collapsed": false
   },
   "outputs": [
    {
     "data": {
      "text/plain": [
       "array([ 0.05104571, -0.02936473,  0.02411584, ..., -0.40986295,\n",
       "        0.01411436, -0.06755923])"
      ]
     },
     "execution_count": 107,
     "metadata": {},
     "output_type": "execute_result"
    }
   ],
   "source": [
    "# Compute the scores as a dot product between feature_matrix and coefficients.\n",
    "scores = np.dot(feature_matrix, coefficients)\n",
    "scores"
   ]
  },
  {
   "cell_type": "markdown",
   "metadata": {},
   "source": [
    "Now, complete the following code block for **Step 2** to compute the class predictions using the **scores** obtained above:\n",
    "# of positive reviews = 26579\n",
    "# of negative reviews = 26493"
   ]
  },
  {
   "cell_type": "code",
   "execution_count": 110,
   "metadata": {
    "collapsed": false
   },
   "outputs": [
    {
     "name": "stdout",
     "output_type": "stream",
     "text": [
      "positive sentiment = 25126\n",
      "negative sentiment = 27946\n"
     ]
    }
   ],
   "source": [
    "print 'positive sentiment =',sum(scores>0)\n",
    "print 'negative sentiment =',sum(scores<=0) "
   ]
  },
  {
   "cell_type": "markdown",
   "metadata": {},
   "source": [
    "** Quiz Question: ** How many reviews were predicted to have positive sentiment?"
   ]
  },
  {
   "cell_type": "code",
   "execution_count": 95,
   "metadata": {
    "collapsed": false
   },
   "outputs": [
    {
     "data": {
      "text/plain": [
       "13145"
      ]
     },
     "execution_count": 95,
     "metadata": {},
     "output_type": "execute_result"
    }
   ],
   "source": [
    "13145"
   ]
  },
  {
   "cell_type": "markdown",
   "metadata": {},
   "source": [
    "## Measuring accuracy\n",
    "\n",
    "We will now measure the classification accuracy of the model. Recall from the lecture that the classification accuracy can be computed as follows:\n",
    "\n",
    "$$\n",
    "\\mbox{accuracy} = \\frac{\\mbox{# correctly classified data points}}{\\mbox{# total data points}}\n",
    "$$\n",
    "\n",
    "Complete the following code block to compute the accuracy of the model."
   ]
  },
  {
   "cell_type": "code",
   "execution_count": 121,
   "metadata": {
    "collapsed": false
   },
   "outputs": [
    {
     "name": "stdout",
     "output_type": "stream",
     "text": [
      "-----------------------------------------------------\n",
      "# Reviews   correctly classified = 51619\n",
      "# Reviews incorrectly classified = 1453\n",
      "# Reviews total                  = 53072\n",
      "-----------------------------------------------------\n",
      "Accuracy = 97.26\n"
     ]
    }
   ],
   "source": [
    "total = sum(scores>0) + sum(scores<=0)\n",
    "num_mistakes = 26579-sum(scores>0) # YOUR CODE HERE\n",
    "accuracy = ((float(total-num_mistakes)*100/total))# YOUR CODE HERE\n",
    "\n",
    "print \"-----------------------------------------------------\"\n",
    "print '# Reviews   correctly classified =', len(products) - num_mistakes\n",
    "print '# Reviews incorrectly classified =', num_mistakes\n",
    "print '# Reviews total                  =', len(products)\n",
    "print \"-----------------------------------------------------\"\n",
    "print 'Accuracy = %.2f' % accuracy"
   ]
  },
  {
   "cell_type": "markdown",
   "metadata": {},
   "source": [
    "**Quiz Question**: What is the accuracy of the model on predictions made above? (round to 2 digits of accuracy)"
   ]
  },
  {
   "cell_type": "markdown",
   "metadata": {},
   "source": [
    "## Which words contribute most to positive & negative sentiments?"
   ]
  },
  {
   "cell_type": "markdown",
   "metadata": {},
   "source": [
    "Recall that in Module 2 assignment, we were able to compute the \"**most positive words**\". These are words that correspond most strongly with positive reviews. In order to do this, we will first do the following:\n",
    "* Treat each coefficient as a tuple, i.e. (**word**, **coefficient_value**).\n",
    "* Sort all the (**word**, **coefficient_value**) tuples by **coefficient_value** in descending order."
   ]
  },
  {
   "cell_type": "code",
   "execution_count": 122,
   "metadata": {
    "collapsed": false,
    "scrolled": true
   },
   "outputs": [],
   "source": [
    "coefficients = list(coefficients[1:]) # exclude intercept\n",
    "word_coefficient_tuples = [(word, coefficient) for word, coefficient in zip(important_words, coefficients)]\n",
    "word_coefficient_tuples = sorted(word_coefficient_tuples, key=lambda x:x[1], reverse=True)"
   ]
  },
  {
   "cell_type": "markdown",
   "metadata": {},
   "source": [
    "Now, **word_coefficient_tuples** contains a sorted list of (**word**, **coefficient_value**) tuples. The first 10 elements in this list correspond to the words that are most positive."
   ]
  },
  {
   "cell_type": "markdown",
   "metadata": {},
   "source": [
    "### Ten \"most positive\" words\n",
    "\n",
    "Now, we compute the 10 words that have the most positive coefficient values. These words are associated with positive sentiment."
   ]
  },
  {
   "cell_type": "code",
   "execution_count": 123,
   "metadata": {
    "collapsed": false
   },
   "outputs": [
    {
     "data": {
      "text/plain": [
       "[('love', 0.065890762922123272),\n",
       " ('easy', 0.06479458680257838),\n",
       " ('little', 0.045435626308421365),\n",
       " ('loves', 0.044976401394906038),\n",
       " ('well', 0.03013500109210707),\n",
       " ('perfect', 0.029739937104968462),\n",
       " ('old', 0.020077541034775381),\n",
       " ('nice', 0.018408707995268992),\n",
       " ('daughter', 0.017703199905701694)]"
      ]
     },
     "execution_count": 123,
     "metadata": {},
     "output_type": "execute_result"
    }
   ],
   "source": [
    "word_coefficient_tuples[1:10]"
   ]
  },
  {
   "cell_type": "markdown",
   "metadata": {},
   "source": [
    "** Quiz Question:** Which word is **not** present in the top 10 \"most positive\" words?"
   ]
  },
  {
   "cell_type": "markdown",
   "metadata": {},
   "source": [
    "### Ten \"most negative\" words\n",
    "\n",
    "Next, we repeat this exercise on the 10 most negative words.  That is, we compute the 10 words that have the most negative coefficient values. These words are associated with negative sentiment."
   ]
  },
  {
   "cell_type": "code",
   "execution_count": 124,
   "metadata": {
    "collapsed": false
   },
   "outputs": [
    {
     "data": {
      "text/plain": [
       "[('monitor', -0.024482100545891717),\n",
       " ('return', -0.026592778462247283),\n",
       " ('back', -0.027742697230661327),\n",
       " ('get', -0.028711552980192592),\n",
       " ('disappointed', -0.028978976142317068),\n",
       " ('even', -0.030051249236035801),\n",
       " ('work', -0.03306951529475273),\n",
       " ('money', -0.038982037286487116),\n",
       " ('product', -0.041511033392108897),\n",
       " ('would', -0.053860148445203135)]"
      ]
     },
     "execution_count": 124,
     "metadata": {},
     "output_type": "execute_result"
    }
   ],
   "source": [
    "word_coefficient_tuples[len(word_coefficient_tuples)-10:len(word_coefficient_tuples)]"
   ]
  },
  {
   "cell_type": "markdown",
   "metadata": {},
   "source": [
    "** Quiz Question:** Which word is **not** present in the top 10 \"most negative\" words?"
   ]
  },
  {
   "cell_type": "code",
   "execution_count": 104,
   "metadata": {
    "collapsed": false
   },
   "outputs": [
    {
     "data": {
      "text/plain": [
       "'disappointed'"
      ]
     },
     "execution_count": 104,
     "metadata": {},
     "output_type": "execute_result"
    }
   ],
   "source": [
    "'disappointed'"
   ]
  },
  {
   "cell_type": "code",
   "execution_count": null,
   "metadata": {
    "collapsed": true
   },
   "outputs": [],
   "source": []
  }
 ],
 "metadata": {
  "kernelspec": {
   "display_name": "Python 2",
   "language": "python",
   "name": "python2"
  },
  "language_info": {
   "codemirror_mode": {
    "name": "ipython",
    "version": 2
   },
   "file_extension": ".py",
   "mimetype": "text/x-python",
   "name": "python",
   "nbconvert_exporter": "python",
   "pygments_lexer": "ipython2",
   "version": "2.7.11"
  }
 },
 "nbformat": 4,
 "nbformat_minor": 0
}
